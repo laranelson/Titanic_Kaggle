{
 "cells": [
  {
   "cell_type": "code",
   "execution_count": 1,
   "id": "0d6d4c13",
   "metadata": {
    "_cell_guid": "b1076dfc-b9ad-4769-8c92-a6c4dae69d19",
    "_uuid": "8f2839f25d086af736a60e9eeb907d3b93b6e0e5",
    "execution": {
     "iopub.execute_input": "2021-12-27T23:40:09.508289Z",
     "iopub.status.busy": "2021-12-27T23:40:09.507518Z",
     "iopub.status.idle": "2021-12-27T23:40:09.513321Z",
     "shell.execute_reply": "2021-12-27T23:40:09.513912Z",
     "shell.execute_reply.started": "2021-12-27T20:10:42.790107Z"
    },
    "papermill": {
     "duration": 0.052828,
     "end_time": "2021-12-27T23:40:09.514185",
     "exception": false,
     "start_time": "2021-12-27T23:40:09.461357",
     "status": "completed"
    },
    "tags": []
   },
   "outputs": [
    {
     "name": "stdout",
     "output_type": "stream",
     "text": [
      "/kaggle/input/titanic/train.csv\n",
      "/kaggle/input/titanic/test.csv\n",
      "/kaggle/input/titanic/gender_submission.csv\n"
     ]
    }
   ],
   "source": [
    "# This Python 3 environment comes with many helpful analytics libraries installed\n",
    "# It is defined by the kaggle/python Docker image: https\n",
    "\n",
    "# Este ambiente Python 3 vem com muitas bibliotecas analíticas úteis instaladas\n",
    "# É definido pela imagem Docker kaggle / python: https://github.com/kaggle/docker-python\n",
    "# Por exemplo, aqui estão vários pacotes úteis para carregar://github.com/kaggle/docker-python\n",
    "# For example, here's several helpful packages to load\n",
    "\n",
    "import numpy as np # linear algebra\n",
    "import pandas as pd # data processing, CSV file I/O (e.g. pd.read_csv)\n",
    "\n",
    "# Input data files are available in the read-only \"../input/\" directory\n",
    "# For example, running this (by clicking run or pressing Shift+Enter) will list all files under the input directory\n",
    "\n",
    "# Os arquivos de dados de entrada estão disponíveis no diretório somente leitura \"../input/\"\n",
    "# Por exemplo, executando isto (clicando em executar ou pressionando Shift + Enter) irá listar todos os arquivos no diretório de entrada\n",
    "\n",
    "\n",
    "import os\n",
    "for dirname, _, filenames in os.walk('/kaggle/input'):\n",
    "    for filename in filenames:\n",
    "        print(os.path.join(dirname, filename))\n",
    "\n",
    "# You can write up to 20GB to the current directory (/kaggle/working/) that gets preserved as output when you create a version using \"Save & Run All\" \n",
    "# You can also write temporary files to /kaggle/temp/, but they won't be saved outside of the current session\n",
    "\n",
    "# Você pode gravar até 20 GB no diretório atual (/ kaggle / working /) que é preservado como saída quando você cria uma versão usando \"Salvar e executar tudo\"\n",
    "# Você também pode gravar arquivos temporários em / kaggle / temp /, mas eles não serão salvos fora da sessão atual"
   ]
  },
  {
   "cell_type": "code",
   "execution_count": 2,
   "id": "c47546af",
   "metadata": {
    "execution": {
     "iopub.execute_input": "2021-12-27T23:40:09.585140Z",
     "iopub.status.busy": "2021-12-27T23:40:09.584641Z",
     "iopub.status.idle": "2021-12-27T23:40:09.626562Z",
     "shell.execute_reply": "2021-12-27T23:40:09.626947Z",
     "shell.execute_reply.started": "2021-12-27T20:10:45.991964Z"
    },
    "papermill": {
     "duration": 0.078362,
     "end_time": "2021-12-27T23:40:09.627073",
     "exception": false,
     "start_time": "2021-12-27T23:40:09.548711",
     "status": "completed"
    },
    "tags": []
   },
   "outputs": [
    {
     "data": {
      "text/html": [
       "<div>\n",
       "<style scoped>\n",
       "    .dataframe tbody tr th:only-of-type {\n",
       "        vertical-align: middle;\n",
       "    }\n",
       "\n",
       "    .dataframe tbody tr th {\n",
       "        vertical-align: top;\n",
       "    }\n",
       "\n",
       "    .dataframe thead th {\n",
       "        text-align: right;\n",
       "    }\n",
       "</style>\n",
       "<table border=\"1\" class=\"dataframe\">\n",
       "  <thead>\n",
       "    <tr style=\"text-align: right;\">\n",
       "      <th></th>\n",
       "      <th>PassengerId</th>\n",
       "      <th>Survived</th>\n",
       "      <th>Pclass</th>\n",
       "      <th>Name</th>\n",
       "      <th>Sex</th>\n",
       "      <th>Age</th>\n",
       "      <th>SibSp</th>\n",
       "      <th>Parch</th>\n",
       "      <th>Ticket</th>\n",
       "      <th>Fare</th>\n",
       "      <th>Cabin</th>\n",
       "      <th>Embarked</th>\n",
       "    </tr>\n",
       "  </thead>\n",
       "  <tbody>\n",
       "    <tr>\n",
       "      <th>0</th>\n",
       "      <td>1</td>\n",
       "      <td>0</td>\n",
       "      <td>3</td>\n",
       "      <td>Braund, Mr. Owen Harris</td>\n",
       "      <td>male</td>\n",
       "      <td>22.0</td>\n",
       "      <td>1</td>\n",
       "      <td>0</td>\n",
       "      <td>A/5 21171</td>\n",
       "      <td>7.2500</td>\n",
       "      <td>NaN</td>\n",
       "      <td>S</td>\n",
       "    </tr>\n",
       "    <tr>\n",
       "      <th>1</th>\n",
       "      <td>2</td>\n",
       "      <td>1</td>\n",
       "      <td>1</td>\n",
       "      <td>Cumings, Mrs. John Bradley (Florence Briggs Th...</td>\n",
       "      <td>female</td>\n",
       "      <td>38.0</td>\n",
       "      <td>1</td>\n",
       "      <td>0</td>\n",
       "      <td>PC 17599</td>\n",
       "      <td>71.2833</td>\n",
       "      <td>C85</td>\n",
       "      <td>C</td>\n",
       "    </tr>\n",
       "    <tr>\n",
       "      <th>2</th>\n",
       "      <td>3</td>\n",
       "      <td>1</td>\n",
       "      <td>3</td>\n",
       "      <td>Heikkinen, Miss. Laina</td>\n",
       "      <td>female</td>\n",
       "      <td>26.0</td>\n",
       "      <td>0</td>\n",
       "      <td>0</td>\n",
       "      <td>STON/O2. 3101282</td>\n",
       "      <td>7.9250</td>\n",
       "      <td>NaN</td>\n",
       "      <td>S</td>\n",
       "    </tr>\n",
       "    <tr>\n",
       "      <th>3</th>\n",
       "      <td>4</td>\n",
       "      <td>1</td>\n",
       "      <td>1</td>\n",
       "      <td>Futrelle, Mrs. Jacques Heath (Lily May Peel)</td>\n",
       "      <td>female</td>\n",
       "      <td>35.0</td>\n",
       "      <td>1</td>\n",
       "      <td>0</td>\n",
       "      <td>113803</td>\n",
       "      <td>53.1000</td>\n",
       "      <td>C123</td>\n",
       "      <td>S</td>\n",
       "    </tr>\n",
       "    <tr>\n",
       "      <th>4</th>\n",
       "      <td>5</td>\n",
       "      <td>0</td>\n",
       "      <td>3</td>\n",
       "      <td>Allen, Mr. William Henry</td>\n",
       "      <td>male</td>\n",
       "      <td>35.0</td>\n",
       "      <td>0</td>\n",
       "      <td>0</td>\n",
       "      <td>373450</td>\n",
       "      <td>8.0500</td>\n",
       "      <td>NaN</td>\n",
       "      <td>S</td>\n",
       "    </tr>\n",
       "    <tr>\n",
       "      <th>...</th>\n",
       "      <td>...</td>\n",
       "      <td>...</td>\n",
       "      <td>...</td>\n",
       "      <td>...</td>\n",
       "      <td>...</td>\n",
       "      <td>...</td>\n",
       "      <td>...</td>\n",
       "      <td>...</td>\n",
       "      <td>...</td>\n",
       "      <td>...</td>\n",
       "      <td>...</td>\n",
       "      <td>...</td>\n",
       "    </tr>\n",
       "    <tr>\n",
       "      <th>886</th>\n",
       "      <td>887</td>\n",
       "      <td>0</td>\n",
       "      <td>2</td>\n",
       "      <td>Montvila, Rev. Juozas</td>\n",
       "      <td>male</td>\n",
       "      <td>27.0</td>\n",
       "      <td>0</td>\n",
       "      <td>0</td>\n",
       "      <td>211536</td>\n",
       "      <td>13.0000</td>\n",
       "      <td>NaN</td>\n",
       "      <td>S</td>\n",
       "    </tr>\n",
       "    <tr>\n",
       "      <th>887</th>\n",
       "      <td>888</td>\n",
       "      <td>1</td>\n",
       "      <td>1</td>\n",
       "      <td>Graham, Miss. Margaret Edith</td>\n",
       "      <td>female</td>\n",
       "      <td>19.0</td>\n",
       "      <td>0</td>\n",
       "      <td>0</td>\n",
       "      <td>112053</td>\n",
       "      <td>30.0000</td>\n",
       "      <td>B42</td>\n",
       "      <td>S</td>\n",
       "    </tr>\n",
       "    <tr>\n",
       "      <th>888</th>\n",
       "      <td>889</td>\n",
       "      <td>0</td>\n",
       "      <td>3</td>\n",
       "      <td>Johnston, Miss. Catherine Helen \"Carrie\"</td>\n",
       "      <td>female</td>\n",
       "      <td>NaN</td>\n",
       "      <td>1</td>\n",
       "      <td>2</td>\n",
       "      <td>W./C. 6607</td>\n",
       "      <td>23.4500</td>\n",
       "      <td>NaN</td>\n",
       "      <td>S</td>\n",
       "    </tr>\n",
       "    <tr>\n",
       "      <th>889</th>\n",
       "      <td>890</td>\n",
       "      <td>1</td>\n",
       "      <td>1</td>\n",
       "      <td>Behr, Mr. Karl Howell</td>\n",
       "      <td>male</td>\n",
       "      <td>26.0</td>\n",
       "      <td>0</td>\n",
       "      <td>0</td>\n",
       "      <td>111369</td>\n",
       "      <td>30.0000</td>\n",
       "      <td>C148</td>\n",
       "      <td>C</td>\n",
       "    </tr>\n",
       "    <tr>\n",
       "      <th>890</th>\n",
       "      <td>891</td>\n",
       "      <td>0</td>\n",
       "      <td>3</td>\n",
       "      <td>Dooley, Mr. Patrick</td>\n",
       "      <td>male</td>\n",
       "      <td>32.0</td>\n",
       "      <td>0</td>\n",
       "      <td>0</td>\n",
       "      <td>370376</td>\n",
       "      <td>7.7500</td>\n",
       "      <td>NaN</td>\n",
       "      <td>Q</td>\n",
       "    </tr>\n",
       "  </tbody>\n",
       "</table>\n",
       "<p>891 rows × 12 columns</p>\n",
       "</div>"
      ],
      "text/plain": [
       "     PassengerId  Survived  Pclass  \\\n",
       "0              1         0       3   \n",
       "1              2         1       1   \n",
       "2              3         1       3   \n",
       "3              4         1       1   \n",
       "4              5         0       3   \n",
       "..           ...       ...     ...   \n",
       "886          887         0       2   \n",
       "887          888         1       1   \n",
       "888          889         0       3   \n",
       "889          890         1       1   \n",
       "890          891         0       3   \n",
       "\n",
       "                                                  Name     Sex   Age  SibSp  \\\n",
       "0                              Braund, Mr. Owen Harris    male  22.0      1   \n",
       "1    Cumings, Mrs. John Bradley (Florence Briggs Th...  female  38.0      1   \n",
       "2                               Heikkinen, Miss. Laina  female  26.0      0   \n",
       "3         Futrelle, Mrs. Jacques Heath (Lily May Peel)  female  35.0      1   \n",
       "4                             Allen, Mr. William Henry    male  35.0      0   \n",
       "..                                                 ...     ...   ...    ...   \n",
       "886                              Montvila, Rev. Juozas    male  27.0      0   \n",
       "887                       Graham, Miss. Margaret Edith  female  19.0      0   \n",
       "888           Johnston, Miss. Catherine Helen \"Carrie\"  female   NaN      1   \n",
       "889                              Behr, Mr. Karl Howell    male  26.0      0   \n",
       "890                                Dooley, Mr. Patrick    male  32.0      0   \n",
       "\n",
       "     Parch            Ticket     Fare Cabin Embarked  \n",
       "0        0         A/5 21171   7.2500   NaN        S  \n",
       "1        0          PC 17599  71.2833   C85        C  \n",
       "2        0  STON/O2. 3101282   7.9250   NaN        S  \n",
       "3        0            113803  53.1000  C123        S  \n",
       "4        0            373450   8.0500   NaN        S  \n",
       "..     ...               ...      ...   ...      ...  \n",
       "886      0            211536  13.0000   NaN        S  \n",
       "887      0            112053  30.0000   B42        S  \n",
       "888      2        W./C. 6607  23.4500   NaN        S  \n",
       "889      0            111369  30.0000  C148        C  \n",
       "890      0            370376   7.7500   NaN        Q  \n",
       "\n",
       "[891 rows x 12 columns]"
      ]
     },
     "execution_count": 2,
     "metadata": {},
     "output_type": "execute_result"
    }
   ],
   "source": [
    "data = pd.read_csv('/kaggle/input/titanic/train.csv')\n",
    "data"
   ]
  },
  {
   "cell_type": "code",
   "execution_count": 3,
   "id": "26b1941a",
   "metadata": {
    "execution": {
     "iopub.execute_input": "2021-12-27T23:40:09.703183Z",
     "iopub.status.busy": "2021-12-27T23:40:09.702322Z",
     "iopub.status.idle": "2021-12-27T23:40:09.705831Z",
     "shell.execute_reply": "2021-12-27T23:40:09.705414Z",
     "shell.execute_reply.started": "2021-12-27T20:10:49.832278Z"
    },
    "papermill": {
     "duration": 0.045086,
     "end_time": "2021-12-27T23:40:09.705967",
     "exception": false,
     "start_time": "2021-12-27T23:40:09.660881",
     "status": "completed"
    },
    "tags": []
   },
   "outputs": [],
   "source": [
    "data.drop(columns = ['PassengerId','Ticket','Cabin','Name', 'Embarked'],inplace = True)"
   ]
  },
  {
   "cell_type": "code",
   "execution_count": 4,
   "id": "a54368cb",
   "metadata": {
    "execution": {
     "iopub.execute_input": "2021-12-27T23:40:09.818675Z",
     "iopub.status.busy": "2021-12-27T23:40:09.817990Z",
     "iopub.status.idle": "2021-12-27T23:40:09.820860Z",
     "shell.execute_reply": "2021-12-27T23:40:09.821293Z",
     "shell.execute_reply.started": "2021-12-27T20:10:51.910398Z"
    },
    "papermill": {
     "duration": 0.073768,
     "end_time": "2021-12-27T23:40:09.821417",
     "exception": false,
     "start_time": "2021-12-27T23:40:09.747649",
     "status": "completed"
    },
    "tags": []
   },
   "outputs": [
    {
     "data": {
      "text/html": [
       "<div>\n",
       "<style scoped>\n",
       "    .dataframe tbody tr th:only-of-type {\n",
       "        vertical-align: middle;\n",
       "    }\n",
       "\n",
       "    .dataframe tbody tr th {\n",
       "        vertical-align: top;\n",
       "    }\n",
       "\n",
       "    .dataframe thead th {\n",
       "        text-align: right;\n",
       "    }\n",
       "</style>\n",
       "<table border=\"1\" class=\"dataframe\">\n",
       "  <thead>\n",
       "    <tr style=\"text-align: right;\">\n",
       "      <th></th>\n",
       "      <th>Survived</th>\n",
       "      <th>Pclass</th>\n",
       "      <th>Sex</th>\n",
       "      <th>Age</th>\n",
       "      <th>SibSp</th>\n",
       "      <th>Parch</th>\n",
       "      <th>Fare</th>\n",
       "    </tr>\n",
       "  </thead>\n",
       "  <tbody>\n",
       "    <tr>\n",
       "      <th>0</th>\n",
       "      <td>0</td>\n",
       "      <td>3</td>\n",
       "      <td>male</td>\n",
       "      <td>22.0</td>\n",
       "      <td>1</td>\n",
       "      <td>0</td>\n",
       "      <td>7.2500</td>\n",
       "    </tr>\n",
       "    <tr>\n",
       "      <th>1</th>\n",
       "      <td>1</td>\n",
       "      <td>1</td>\n",
       "      <td>female</td>\n",
       "      <td>38.0</td>\n",
       "      <td>1</td>\n",
       "      <td>0</td>\n",
       "      <td>71.2833</td>\n",
       "    </tr>\n",
       "    <tr>\n",
       "      <th>2</th>\n",
       "      <td>1</td>\n",
       "      <td>3</td>\n",
       "      <td>female</td>\n",
       "      <td>26.0</td>\n",
       "      <td>0</td>\n",
       "      <td>0</td>\n",
       "      <td>7.9250</td>\n",
       "    </tr>\n",
       "    <tr>\n",
       "      <th>3</th>\n",
       "      <td>1</td>\n",
       "      <td>1</td>\n",
       "      <td>female</td>\n",
       "      <td>35.0</td>\n",
       "      <td>1</td>\n",
       "      <td>0</td>\n",
       "      <td>53.1000</td>\n",
       "    </tr>\n",
       "    <tr>\n",
       "      <th>4</th>\n",
       "      <td>0</td>\n",
       "      <td>3</td>\n",
       "      <td>male</td>\n",
       "      <td>35.0</td>\n",
       "      <td>0</td>\n",
       "      <td>0</td>\n",
       "      <td>8.0500</td>\n",
       "    </tr>\n",
       "    <tr>\n",
       "      <th>...</th>\n",
       "      <td>...</td>\n",
       "      <td>...</td>\n",
       "      <td>...</td>\n",
       "      <td>...</td>\n",
       "      <td>...</td>\n",
       "      <td>...</td>\n",
       "      <td>...</td>\n",
       "    </tr>\n",
       "    <tr>\n",
       "      <th>886</th>\n",
       "      <td>0</td>\n",
       "      <td>2</td>\n",
       "      <td>male</td>\n",
       "      <td>27.0</td>\n",
       "      <td>0</td>\n",
       "      <td>0</td>\n",
       "      <td>13.0000</td>\n",
       "    </tr>\n",
       "    <tr>\n",
       "      <th>887</th>\n",
       "      <td>1</td>\n",
       "      <td>1</td>\n",
       "      <td>female</td>\n",
       "      <td>19.0</td>\n",
       "      <td>0</td>\n",
       "      <td>0</td>\n",
       "      <td>30.0000</td>\n",
       "    </tr>\n",
       "    <tr>\n",
       "      <th>888</th>\n",
       "      <td>0</td>\n",
       "      <td>3</td>\n",
       "      <td>female</td>\n",
       "      <td>NaN</td>\n",
       "      <td>1</td>\n",
       "      <td>2</td>\n",
       "      <td>23.4500</td>\n",
       "    </tr>\n",
       "    <tr>\n",
       "      <th>889</th>\n",
       "      <td>1</td>\n",
       "      <td>1</td>\n",
       "      <td>male</td>\n",
       "      <td>26.0</td>\n",
       "      <td>0</td>\n",
       "      <td>0</td>\n",
       "      <td>30.0000</td>\n",
       "    </tr>\n",
       "    <tr>\n",
       "      <th>890</th>\n",
       "      <td>0</td>\n",
       "      <td>3</td>\n",
       "      <td>male</td>\n",
       "      <td>32.0</td>\n",
       "      <td>0</td>\n",
       "      <td>0</td>\n",
       "      <td>7.7500</td>\n",
       "    </tr>\n",
       "  </tbody>\n",
       "</table>\n",
       "<p>891 rows × 7 columns</p>\n",
       "</div>"
      ],
      "text/plain": [
       "     Survived  Pclass     Sex   Age  SibSp  Parch     Fare\n",
       "0           0       3    male  22.0      1      0   7.2500\n",
       "1           1       1  female  38.0      1      0  71.2833\n",
       "2           1       3  female  26.0      0      0   7.9250\n",
       "3           1       1  female  35.0      1      0  53.1000\n",
       "4           0       3    male  35.0      0      0   8.0500\n",
       "..        ...     ...     ...   ...    ...    ...      ...\n",
       "886         0       2    male  27.0      0      0  13.0000\n",
       "887         1       1  female  19.0      0      0  30.0000\n",
       "888         0       3  female   NaN      1      2  23.4500\n",
       "889         1       1    male  26.0      0      0  30.0000\n",
       "890         0       3    male  32.0      0      0   7.7500\n",
       "\n",
       "[891 rows x 7 columns]"
      ]
     },
     "execution_count": 4,
     "metadata": {},
     "output_type": "execute_result"
    }
   ],
   "source": [
    "data"
   ]
  },
  {
   "cell_type": "code",
   "execution_count": 5,
   "id": "ba948128",
   "metadata": {
    "execution": {
     "iopub.execute_input": "2021-12-27T23:40:09.893621Z",
     "iopub.status.busy": "2021-12-27T23:40:09.892995Z",
     "iopub.status.idle": "2021-12-27T23:40:11.127571Z",
     "shell.execute_reply": "2021-12-27T23:40:11.126682Z",
     "shell.execute_reply.started": "2021-12-27T20:10:55.057287Z"
    },
    "papermill": {
     "duration": 1.271427,
     "end_time": "2021-12-27T23:40:11.127716",
     "exception": false,
     "start_time": "2021-12-27T23:40:09.856289",
     "status": "completed"
    },
    "tags": []
   },
   "outputs": [
    {
     "data": {
      "text/plain": [
       "<AxesSubplot:>"
      ]
     },
     "execution_count": 5,
     "metadata": {},
     "output_type": "execute_result"
    },
    {
     "data": {
      "image/png": "[encoded data removed]",
      "text/plain": [
       "<Figure size 432x288 with 2 Axes>"
      ]
     },
     "metadata": {
      "needs_background": "light"
     },
     "output_type": "display_data"
    }
   ],
   "source": [
    "import seaborn as sns\n",
    "sns.heatmap(data.isnull())"
   ]
  },
  {
   "cell_type": "code",
   "execution_count": 6,
   "id": "841d65c5",
   "metadata": {
    "execution": {
     "iopub.execute_input": "2021-12-27T23:40:11.203396Z",
     "iopub.status.busy": "2021-12-27T23:40:11.202759Z",
     "iopub.status.idle": "2021-12-27T23:40:11.205766Z",
     "shell.execute_reply": "2021-12-27T23:40:11.205342Z",
     "shell.execute_reply.started": "2021-12-27T20:10:58.597249Z"
    },
    "papermill": {
     "duration": 0.042896,
     "end_time": "2021-12-27T23:40:11.205898",
     "exception": false,
     "start_time": "2021-12-27T23:40:11.163002",
     "status": "completed"
    },
    "tags": []
   },
   "outputs": [],
   "source": [
    "data.Age = data.Age.fillna(0)\n",
    "#data.Embarked = data.Embarked.fillna(0)"
   ]
  },
  {
   "cell_type": "code",
   "execution_count": 7,
   "id": "5604fbe8",
   "metadata": {
    "execution": {
     "iopub.execute_input": "2021-12-27T23:40:11.280631Z",
     "iopub.status.busy": "2021-12-27T23:40:11.280003Z",
     "iopub.status.idle": "2021-12-27T23:40:11.282535Z",
     "shell.execute_reply": "2021-12-27T23:40:11.282121Z",
     "shell.execute_reply.started": "2021-12-27T20:11:04.070183Z"
    },
    "papermill": {
     "duration": 0.04205,
     "end_time": "2021-12-27T23:40:11.282645",
     "exception": false,
     "start_time": "2021-12-27T23:40:11.240595",
     "status": "completed"
    },
    "tags": []
   },
   "outputs": [],
   "source": [
    "data['Sex'] = data['Sex'].map({'female':1,'male':0}).astype(int)"
   ]
  },
  {
   "cell_type": "code",
   "execution_count": 8,
   "id": "9c1f1b03",
   "metadata": {
    "execution": {
     "iopub.execute_input": "2021-12-27T23:40:11.360584Z",
     "iopub.status.busy": "2021-12-27T23:40:11.359751Z",
     "iopub.status.idle": "2021-12-27T23:40:11.372730Z",
     "shell.execute_reply": "2021-12-27T23:40:11.372272Z",
     "shell.execute_reply.started": "2021-12-27T20:11:07.962703Z"
    },
    "papermill": {
     "duration": 0.054991,
     "end_time": "2021-12-27T23:40:11.372869",
     "exception": false,
     "start_time": "2021-12-27T23:40:11.317878",
     "status": "completed"
    },
    "tags": []
   },
   "outputs": [
    {
     "data": {
      "text/html": [
       "<div>\n",
       "<style scoped>\n",
       "    .dataframe tbody tr th:only-of-type {\n",
       "        vertical-align: middle;\n",
       "    }\n",
       "\n",
       "    .dataframe tbody tr th {\n",
       "        vertical-align: top;\n",
       "    }\n",
       "\n",
       "    .dataframe thead th {\n",
       "        text-align: right;\n",
       "    }\n",
       "</style>\n",
       "<table border=\"1\" class=\"dataframe\">\n",
       "  <thead>\n",
       "    <tr style=\"text-align: right;\">\n",
       "      <th></th>\n",
       "      <th>Survived</th>\n",
       "      <th>Pclass</th>\n",
       "      <th>Sex</th>\n",
       "      <th>Age</th>\n",
       "      <th>SibSp</th>\n",
       "      <th>Parch</th>\n",
       "      <th>Fare</th>\n",
       "    </tr>\n",
       "  </thead>\n",
       "  <tbody>\n",
       "    <tr>\n",
       "      <th>0</th>\n",
       "      <td>0</td>\n",
       "      <td>3</td>\n",
       "      <td>0</td>\n",
       "      <td>22.0</td>\n",
       "      <td>1</td>\n",
       "      <td>0</td>\n",
       "      <td>7.2500</td>\n",
       "    </tr>\n",
       "    <tr>\n",
       "      <th>1</th>\n",
       "      <td>1</td>\n",
       "      <td>1</td>\n",
       "      <td>1</td>\n",
       "      <td>38.0</td>\n",
       "      <td>1</td>\n",
       "      <td>0</td>\n",
       "      <td>71.2833</td>\n",
       "    </tr>\n",
       "    <tr>\n",
       "      <th>2</th>\n",
       "      <td>1</td>\n",
       "      <td>3</td>\n",
       "      <td>1</td>\n",
       "      <td>26.0</td>\n",
       "      <td>0</td>\n",
       "      <td>0</td>\n",
       "      <td>7.9250</td>\n",
       "    </tr>\n",
       "    <tr>\n",
       "      <th>3</th>\n",
       "      <td>1</td>\n",
       "      <td>1</td>\n",
       "      <td>1</td>\n",
       "      <td>35.0</td>\n",
       "      <td>1</td>\n",
       "      <td>0</td>\n",
       "      <td>53.1000</td>\n",
       "    </tr>\n",
       "    <tr>\n",
       "      <th>4</th>\n",
       "      <td>0</td>\n",
       "      <td>3</td>\n",
       "      <td>0</td>\n",
       "      <td>35.0</td>\n",
       "      <td>0</td>\n",
       "      <td>0</td>\n",
       "      <td>8.0500</td>\n",
       "    </tr>\n",
       "    <tr>\n",
       "      <th>...</th>\n",
       "      <td>...</td>\n",
       "      <td>...</td>\n",
       "      <td>...</td>\n",
       "      <td>...</td>\n",
       "      <td>...</td>\n",
       "      <td>...</td>\n",
       "      <td>...</td>\n",
       "    </tr>\n",
       "    <tr>\n",
       "      <th>886</th>\n",
       "      <td>0</td>\n",
       "      <td>2</td>\n",
       "      <td>0</td>\n",
       "      <td>27.0</td>\n",
       "      <td>0</td>\n",
       "      <td>0</td>\n",
       "      <td>13.0000</td>\n",
       "    </tr>\n",
       "    <tr>\n",
       "      <th>887</th>\n",
       "      <td>1</td>\n",
       "      <td>1</td>\n",
       "      <td>1</td>\n",
       "      <td>19.0</td>\n",
       "      <td>0</td>\n",
       "      <td>0</td>\n",
       "      <td>30.0000</td>\n",
       "    </tr>\n",
       "    <tr>\n",
       "      <th>888</th>\n",
       "      <td>0</td>\n",
       "      <td>3</td>\n",
       "      <td>1</td>\n",
       "      <td>0.0</td>\n",
       "      <td>1</td>\n",
       "      <td>2</td>\n",
       "      <td>23.4500</td>\n",
       "    </tr>\n",
       "    <tr>\n",
       "      <th>889</th>\n",
       "      <td>1</td>\n",
       "      <td>1</td>\n",
       "      <td>0</td>\n",
       "      <td>26.0</td>\n",
       "      <td>0</td>\n",
       "      <td>0</td>\n",
       "      <td>30.0000</td>\n",
       "    </tr>\n",
       "    <tr>\n",
       "      <th>890</th>\n",
       "      <td>0</td>\n",
       "      <td>3</td>\n",
       "      <td>0</td>\n",
       "      <td>32.0</td>\n",
       "      <td>0</td>\n",
       "      <td>0</td>\n",
       "      <td>7.7500</td>\n",
       "    </tr>\n",
       "  </tbody>\n",
       "</table>\n",
       "<p>891 rows × 7 columns</p>\n",
       "</div>"
      ],
      "text/plain": [
       "     Survived  Pclass  Sex   Age  SibSp  Parch     Fare\n",
       "0           0       3    0  22.0      1      0   7.2500\n",
       "1           1       1    1  38.0      1      0  71.2833\n",
       "2           1       3    1  26.0      0      0   7.9250\n",
       "3           1       1    1  35.0      1      0  53.1000\n",
       "4           0       3    0  35.0      0      0   8.0500\n",
       "..        ...     ...  ...   ...    ...    ...      ...\n",
       "886         0       2    0  27.0      0      0  13.0000\n",
       "887         1       1    1  19.0      0      0  30.0000\n",
       "888         0       3    1   0.0      1      2  23.4500\n",
       "889         1       1    0  26.0      0      0  30.0000\n",
       "890         0       3    0  32.0      0      0   7.7500\n",
       "\n",
       "[891 rows x 7 columns]"
      ]
     },
     "execution_count": 8,
     "metadata": {},
     "output_type": "execute_result"
    }
   ],
   "source": [
    "data"
   ]
  },
  {
   "cell_type": "code",
   "execution_count": 9,
   "id": "8efab86e",
   "metadata": {
    "execution": {
     "iopub.execute_input": "2021-12-27T23:40:11.455416Z",
     "iopub.status.busy": "2021-12-27T23:40:11.454670Z",
     "iopub.status.idle": "2021-12-27T23:40:11.457071Z",
     "shell.execute_reply": "2021-12-27T23:40:11.456627Z",
     "shell.execute_reply.started": "2021-12-27T20:11:15.205212Z"
    },
    "papermill": {
     "duration": 0.04362,
     "end_time": "2021-12-27T23:40:11.457175",
     "exception": false,
     "start_time": "2021-12-27T23:40:11.413555",
     "status": "completed"
    },
    "tags": []
   },
   "outputs": [],
   "source": [
    "#x = data.iloc[:,0:11]\n",
    "x = data.iloc[:,0:8]\n",
    "y = data['Survived']"
   ]
  },
  {
   "cell_type": "code",
   "execution_count": 10,
   "id": "bcee1ce9",
   "metadata": {
    "execution": {
     "iopub.execute_input": "2021-12-27T23:40:11.533478Z",
     "iopub.status.busy": "2021-12-27T23:40:11.532809Z",
     "iopub.status.idle": "2021-12-27T23:40:11.535426Z",
     "shell.execute_reply": "2021-12-27T23:40:11.535004Z",
     "shell.execute_reply.started": "2021-12-27T20:11:21.616031Z"
    },
    "papermill": {
     "duration": 0.042305,
     "end_time": "2021-12-27T23:40:11.535523",
     "exception": false,
     "start_time": "2021-12-27T23:40:11.493218",
     "status": "completed"
    },
    "tags": []
   },
   "outputs": [],
   "source": [
    "x = data.drop(columns = ['Survived'])"
   ]
  },
  {
   "cell_type": "code",
   "execution_count": 11,
   "id": "b7aa5fa0",
   "metadata": {
    "execution": {
     "iopub.execute_input": "2021-12-27T23:40:11.621118Z",
     "iopub.status.busy": "2021-12-27T23:40:11.620301Z",
     "iopub.status.idle": "2021-12-27T23:40:11.625359Z",
     "shell.execute_reply": "2021-12-27T23:40:11.625773Z",
     "shell.execute_reply.started": "2021-12-27T20:11:33.943871Z"
    },
    "papermill": {
     "duration": 0.054655,
     "end_time": "2021-12-27T23:40:11.625929",
     "exception": false,
     "start_time": "2021-12-27T23:40:11.571274",
     "status": "completed"
    },
    "tags": []
   },
   "outputs": [
    {
     "data": {
      "text/html": [
       "<div>\n",
       "<style scoped>\n",
       "    .dataframe tbody tr th:only-of-type {\n",
       "        vertical-align: middle;\n",
       "    }\n",
       "\n",
       "    .dataframe tbody tr th {\n",
       "        vertical-align: top;\n",
       "    }\n",
       "\n",
       "    .dataframe thead th {\n",
       "        text-align: right;\n",
       "    }\n",
       "</style>\n",
       "<table border=\"1\" class=\"dataframe\">\n",
       "  <thead>\n",
       "    <tr style=\"text-align: right;\">\n",
       "      <th></th>\n",
       "      <th>Pclass</th>\n",
       "      <th>Sex</th>\n",
       "      <th>Age</th>\n",
       "      <th>SibSp</th>\n",
       "      <th>Parch</th>\n",
       "      <th>Fare</th>\n",
       "    </tr>\n",
       "  </thead>\n",
       "  <tbody>\n",
       "    <tr>\n",
       "      <th>0</th>\n",
       "      <td>3</td>\n",
       "      <td>0</td>\n",
       "      <td>22.0</td>\n",
       "      <td>1</td>\n",
       "      <td>0</td>\n",
       "      <td>7.2500</td>\n",
       "    </tr>\n",
       "    <tr>\n",
       "      <th>1</th>\n",
       "      <td>1</td>\n",
       "      <td>1</td>\n",
       "      <td>38.0</td>\n",
       "      <td>1</td>\n",
       "      <td>0</td>\n",
       "      <td>71.2833</td>\n",
       "    </tr>\n",
       "    <tr>\n",
       "      <th>2</th>\n",
       "      <td>3</td>\n",
       "      <td>1</td>\n",
       "      <td>26.0</td>\n",
       "      <td>0</td>\n",
       "      <td>0</td>\n",
       "      <td>7.9250</td>\n",
       "    </tr>\n",
       "    <tr>\n",
       "      <th>3</th>\n",
       "      <td>1</td>\n",
       "      <td>1</td>\n",
       "      <td>35.0</td>\n",
       "      <td>1</td>\n",
       "      <td>0</td>\n",
       "      <td>53.1000</td>\n",
       "    </tr>\n",
       "    <tr>\n",
       "      <th>4</th>\n",
       "      <td>3</td>\n",
       "      <td>0</td>\n",
       "      <td>35.0</td>\n",
       "      <td>0</td>\n",
       "      <td>0</td>\n",
       "      <td>8.0500</td>\n",
       "    </tr>\n",
       "    <tr>\n",
       "      <th>...</th>\n",
       "      <td>...</td>\n",
       "      <td>...</td>\n",
       "      <td>...</td>\n",
       "      <td>...</td>\n",
       "      <td>...</td>\n",
       "      <td>...</td>\n",
       "    </tr>\n",
       "    <tr>\n",
       "      <th>886</th>\n",
       "      <td>2</td>\n",
       "      <td>0</td>\n",
       "      <td>27.0</td>\n",
       "      <td>0</td>\n",
       "      <td>0</td>\n",
       "      <td>13.0000</td>\n",
       "    </tr>\n",
       "    <tr>\n",
       "      <th>887</th>\n",
       "      <td>1</td>\n",
       "      <td>1</td>\n",
       "      <td>19.0</td>\n",
       "      <td>0</td>\n",
       "      <td>0</td>\n",
       "      <td>30.0000</td>\n",
       "    </tr>\n",
       "    <tr>\n",
       "      <th>888</th>\n",
       "      <td>3</td>\n",
       "      <td>1</td>\n",
       "      <td>0.0</td>\n",
       "      <td>1</td>\n",
       "      <td>2</td>\n",
       "      <td>23.4500</td>\n",
       "    </tr>\n",
       "    <tr>\n",
       "      <th>889</th>\n",
       "      <td>1</td>\n",
       "      <td>0</td>\n",
       "      <td>26.0</td>\n",
       "      <td>0</td>\n",
       "      <td>0</td>\n",
       "      <td>30.0000</td>\n",
       "    </tr>\n",
       "    <tr>\n",
       "      <th>890</th>\n",
       "      <td>3</td>\n",
       "      <td>0</td>\n",
       "      <td>32.0</td>\n",
       "      <td>0</td>\n",
       "      <td>0</td>\n",
       "      <td>7.7500</td>\n",
       "    </tr>\n",
       "  </tbody>\n",
       "</table>\n",
       "<p>891 rows × 6 columns</p>\n",
       "</div>"
      ],
      "text/plain": [
       "     Pclass  Sex   Age  SibSp  Parch     Fare\n",
       "0         3    0  22.0      1      0   7.2500\n",
       "1         1    1  38.0      1      0  71.2833\n",
       "2         3    1  26.0      0      0   7.9250\n",
       "3         1    1  35.0      1      0  53.1000\n",
       "4         3    0  35.0      0      0   8.0500\n",
       "..      ...  ...   ...    ...    ...      ...\n",
       "886       2    0  27.0      0      0  13.0000\n",
       "887       1    1  19.0      0      0  30.0000\n",
       "888       3    1   0.0      1      2  23.4500\n",
       "889       1    0  26.0      0      0  30.0000\n",
       "890       3    0  32.0      0      0   7.7500\n",
       "\n",
       "[891 rows x 6 columns]"
      ]
     },
     "execution_count": 11,
     "metadata": {},
     "output_type": "execute_result"
    }
   ],
   "source": [
    "x"
   ]
  },
  {
   "cell_type": "code",
   "execution_count": 12,
   "id": "5bb9751b",
   "metadata": {
    "execution": {
     "iopub.execute_input": "2021-12-27T23:40:11.703798Z",
     "iopub.status.busy": "2021-12-27T23:40:11.703059Z",
     "iopub.status.idle": "2021-12-27T23:40:11.706359Z",
     "shell.execute_reply": "2021-12-27T23:40:11.705859Z",
     "shell.execute_reply.started": "2021-12-27T20:12:05.571859Z"
    },
    "papermill": {
     "duration": 0.043528,
     "end_time": "2021-12-27T23:40:11.706457",
     "exception": false,
     "start_time": "2021-12-27T23:40:11.662929",
     "status": "completed"
    },
    "tags": []
   },
   "outputs": [
    {
     "data": {
      "text/plain": [
       "0      0\n",
       "1      1\n",
       "2      1\n",
       "3      1\n",
       "4      0\n",
       "      ..\n",
       "886    0\n",
       "887    1\n",
       "888    0\n",
       "889    1\n",
       "890    0\n",
       "Name: Survived, Length: 891, dtype: int64"
      ]
     },
     "execution_count": 12,
     "metadata": {},
     "output_type": "execute_result"
    }
   ],
   "source": [
    "y"
   ]
  },
  {
   "cell_type": "code",
   "execution_count": 13,
   "id": "46895847",
   "metadata": {
    "execution": {
     "iopub.execute_input": "2021-12-27T23:40:11.825347Z",
     "iopub.status.busy": "2021-12-27T23:40:11.824412Z",
     "iopub.status.idle": "2021-12-27T23:40:11.827954Z",
     "shell.execute_reply": "2021-12-27T23:40:11.826184Z",
     "shell.execute_reply.started": "2021-12-27T20:17:53.386134Z"
    },
    "papermill": {
     "duration": 0.079409,
     "end_time": "2021-12-27T23:40:11.828073",
     "exception": false,
     "start_time": "2021-12-27T23:40:11.748664",
     "status": "completed"
    },
    "tags": []
   },
   "outputs": [
    {
     "data": {
      "text/plain": [
       "array([0, 1])"
      ]
     },
     "execution_count": 13,
     "metadata": {},
     "output_type": "execute_result"
    }
   ],
   "source": [
    "#iloc[:,8].unique()\n",
    "x.iloc[:,1].unique()"
   ]
  },
  {
   "cell_type": "code",
   "execution_count": 14,
   "id": "0822a47f",
   "metadata": {
    "execution": {
     "iopub.execute_input": "2021-12-27T23:40:11.974180Z",
     "iopub.status.busy": "2021-12-27T23:40:11.973293Z",
     "iopub.status.idle": "2021-12-27T23:40:11.979698Z",
     "shell.execute_reply": "2021-12-27T23:40:11.980643Z",
     "shell.execute_reply.started": "2021-12-27T20:47:15.987174Z"
    },
    "papermill": {
     "duration": 0.09094,
     "end_time": "2021-12-27T23:40:11.980886",
     "exception": false,
     "start_time": "2021-12-27T23:40:11.889946",
     "status": "completed"
    },
    "tags": []
   },
   "outputs": [
    {
     "data": {
      "text/html": [
       "<div>\n",
       "<style scoped>\n",
       "    .dataframe tbody tr th:only-of-type {\n",
       "        vertical-align: middle;\n",
       "    }\n",
       "\n",
       "    .dataframe tbody tr th {\n",
       "        vertical-align: top;\n",
       "    }\n",
       "\n",
       "    .dataframe thead th {\n",
       "        text-align: right;\n",
       "    }\n",
       "</style>\n",
       "<table border=\"1\" class=\"dataframe\">\n",
       "  <thead>\n",
       "    <tr style=\"text-align: right;\">\n",
       "      <th></th>\n",
       "      <th>Pclass</th>\n",
       "      <th>Sex</th>\n",
       "      <th>Age</th>\n",
       "      <th>SibSp</th>\n",
       "      <th>Parch</th>\n",
       "      <th>Fare</th>\n",
       "    </tr>\n",
       "  </thead>\n",
       "  <tbody>\n",
       "    <tr>\n",
       "      <th>0</th>\n",
       "      <td>3</td>\n",
       "      <td>0</td>\n",
       "      <td>22.0</td>\n",
       "      <td>1</td>\n",
       "      <td>0</td>\n",
       "      <td>7.2500</td>\n",
       "    </tr>\n",
       "    <tr>\n",
       "      <th>1</th>\n",
       "      <td>1</td>\n",
       "      <td>1</td>\n",
       "      <td>38.0</td>\n",
       "      <td>1</td>\n",
       "      <td>0</td>\n",
       "      <td>71.2833</td>\n",
       "    </tr>\n",
       "    <tr>\n",
       "      <th>2</th>\n",
       "      <td>3</td>\n",
       "      <td>1</td>\n",
       "      <td>26.0</td>\n",
       "      <td>0</td>\n",
       "      <td>0</td>\n",
       "      <td>7.9250</td>\n",
       "    </tr>\n",
       "    <tr>\n",
       "      <th>3</th>\n",
       "      <td>1</td>\n",
       "      <td>1</td>\n",
       "      <td>35.0</td>\n",
       "      <td>1</td>\n",
       "      <td>0</td>\n",
       "      <td>53.1000</td>\n",
       "    </tr>\n",
       "    <tr>\n",
       "      <th>4</th>\n",
       "      <td>3</td>\n",
       "      <td>0</td>\n",
       "      <td>35.0</td>\n",
       "      <td>0</td>\n",
       "      <td>0</td>\n",
       "      <td>8.0500</td>\n",
       "    </tr>\n",
       "    <tr>\n",
       "      <th>...</th>\n",
       "      <td>...</td>\n",
       "      <td>...</td>\n",
       "      <td>...</td>\n",
       "      <td>...</td>\n",
       "      <td>...</td>\n",
       "      <td>...</td>\n",
       "    </tr>\n",
       "    <tr>\n",
       "      <th>886</th>\n",
       "      <td>2</td>\n",
       "      <td>0</td>\n",
       "      <td>27.0</td>\n",
       "      <td>0</td>\n",
       "      <td>0</td>\n",
       "      <td>13.0000</td>\n",
       "    </tr>\n",
       "    <tr>\n",
       "      <th>887</th>\n",
       "      <td>1</td>\n",
       "      <td>1</td>\n",
       "      <td>19.0</td>\n",
       "      <td>0</td>\n",
       "      <td>0</td>\n",
       "      <td>30.0000</td>\n",
       "    </tr>\n",
       "    <tr>\n",
       "      <th>888</th>\n",
       "      <td>3</td>\n",
       "      <td>1</td>\n",
       "      <td>0.0</td>\n",
       "      <td>1</td>\n",
       "      <td>2</td>\n",
       "      <td>23.4500</td>\n",
       "    </tr>\n",
       "    <tr>\n",
       "      <th>889</th>\n",
       "      <td>1</td>\n",
       "      <td>0</td>\n",
       "      <td>26.0</td>\n",
       "      <td>0</td>\n",
       "      <td>0</td>\n",
       "      <td>30.0000</td>\n",
       "    </tr>\n",
       "    <tr>\n",
       "      <th>890</th>\n",
       "      <td>3</td>\n",
       "      <td>0</td>\n",
       "      <td>32.0</td>\n",
       "      <td>0</td>\n",
       "      <td>0</td>\n",
       "      <td>7.7500</td>\n",
       "    </tr>\n",
       "  </tbody>\n",
       "</table>\n",
       "<p>891 rows × 6 columns</p>\n",
       "</div>"
      ],
      "text/plain": [
       "     Pclass  Sex   Age  SibSp  Parch     Fare\n",
       "0         3    0  22.0      1      0   7.2500\n",
       "1         1    1  38.0      1      0  71.2833\n",
       "2         3    1  26.0      0      0   7.9250\n",
       "3         1    1  35.0      1      0  53.1000\n",
       "4         3    0  35.0      0      0   8.0500\n",
       "..      ...  ...   ...    ...    ...      ...\n",
       "886       2    0  27.0      0      0  13.0000\n",
       "887       1    1  19.0      0      0  30.0000\n",
       "888       3    1   0.0      1      2  23.4500\n",
       "889       1    0  26.0      0      0  30.0000\n",
       "890       3    0  32.0      0      0   7.7500\n",
       "\n",
       "[891 rows x 6 columns]"
      ]
     },
     "execution_count": 14,
     "metadata": {},
     "output_type": "execute_result"
    }
   ],
   "source": [
    "x"
   ]
  },
  {
   "cell_type": "code",
   "execution_count": 15,
   "id": "2d611f6a",
   "metadata": {
    "execution": {
     "iopub.execute_input": "2021-12-27T23:40:12.113964Z",
     "iopub.status.busy": "2021-12-27T23:40:12.113245Z",
     "iopub.status.idle": "2021-12-27T23:40:12.115823Z",
     "shell.execute_reply": "2021-12-27T23:40:12.116429Z",
     "shell.execute_reply.started": "2021-12-27T20:48:15.018460Z"
    },
    "papermill": {
     "duration": 0.068593,
     "end_time": "2021-12-27T23:40:12.116601",
     "exception": false,
     "start_time": "2021-12-27T23:40:12.048008",
     "status": "completed"
    },
    "tags": []
   },
   "outputs": [],
   "source": [
    "# nominal_col = [1]\n",
    "# ordinal_col = []\n",
    "#numeric_col = [0,1,3,4,6,7,8]\n",
    "numeric_col = [0,1,3,4]\n",
    "\n",
    "#KBin_col = [5]\n",
    "#Bina_col = [2]\n",
    "KBin_col = [5]\n",
    "Bina_col = [2]"
   ]
  },
  {
   "cell_type": "code",
   "execution_count": 16,
   "id": "2a7c6629",
   "metadata": {
    "execution": {
     "iopub.execute_input": "2021-12-27T23:40:12.254988Z",
     "iopub.status.busy": "2021-12-27T23:40:12.254228Z",
     "iopub.status.idle": "2021-12-27T23:40:12.376244Z",
     "shell.execute_reply": "2021-12-27T23:40:12.375475Z",
     "shell.execute_reply.started": "2021-12-27T20:48:19.088793Z"
    },
    "papermill": {
     "duration": 0.194375,
     "end_time": "2021-12-27T23:40:12.376366",
     "exception": false,
     "start_time": "2021-12-27T23:40:12.181991",
     "status": "completed"
    },
    "tags": []
   },
   "outputs": [
    {
     "data": {
      "text/html": [
       "<style>div.sk-top-container {color: black;background-color: white;}div.sk-toggleable {background-color: white;}label.sk-toggleable__label {cursor: pointer;display: block;width: 100%;margin-bottom: 0;padding: 0.2em 0.3em;box-sizing: border-box;text-align: center;}div.sk-toggleable__content {max-height: 0;max-width: 0;overflow: hidden;text-align: left;background-color: #f0f8ff;}div.sk-toggleable__content pre {margin: 0.2em;color: black;border-radius: 0.25em;background-color: #f0f8ff;}input.sk-toggleable__control:checked~div.sk-toggleable__content {max-height: 200px;max-width: 100%;overflow: auto;}div.sk-estimator input.sk-toggleable__control:checked~label.sk-toggleable__label {background-color: #d4ebff;}div.sk-label input.sk-toggleable__control:checked~label.sk-toggleable__label {background-color: #d4ebff;}input.sk-hidden--visually {border: 0;clip: rect(1px 1px 1px 1px);clip: rect(1px, 1px, 1px, 1px);height: 1px;margin: -1px;overflow: hidden;padding: 0;position: absolute;width: 1px;}div.sk-estimator {font-family: monospace;background-color: #f0f8ff;margin: 0.25em 0.25em;border: 1px dotted black;border-radius: 0.25em;box-sizing: border-box;}div.sk-estimator:hover {background-color: #d4ebff;}div.sk-parallel-item::after {content: \"\";width: 100%;border-bottom: 1px solid gray;flex-grow: 1;}div.sk-label:hover label.sk-toggleable__label {background-color: #d4ebff;}div.sk-serial::before {content: \"\";position: absolute;border-left: 1px solid gray;box-sizing: border-box;top: 2em;bottom: 0;left: 50%;}div.sk-serial {display: flex;flex-direction: column;align-items: center;background-color: white;}div.sk-item {z-index: 1;}div.sk-parallel {display: flex;align-items: stretch;justify-content: center;background-color: white;}div.sk-parallel-item {display: flex;flex-direction: column;position: relative;background-color: white;}div.sk-parallel-item:first-child::after {align-self: flex-end;width: 50%;}div.sk-parallel-item:last-child::after {align-self: flex-start;width: 50%;}div.sk-parallel-item:only-child::after {width: 0;}div.sk-dashed-wrapped {border: 1px dashed gray;margin: 0.2em;box-sizing: border-box;padding-bottom: 0.1em;background-color: white;position: relative;}div.sk-label label {font-family: monospace;font-weight: bold;background-color: white;display: inline-block;line-height: 1.2em;}div.sk-label-container {position: relative;z-index: 2;text-align: center;}div.sk-container {display: inline-block;position: relative;}</style><div class=\"sk-top-container\"><div class=\"sk-container\"><div class=\"sk-item sk-dashed-wrapped\"><div class=\"sk-label-container\"><div class=\"sk-label sk-toggleable\"><input class=\"sk-toggleable__control sk-hidden--visually\" id=\"680de23a-3bd2-41a9-aab8-c4f6896bc149\" type=\"checkbox\" ><label class=\"sk-toggleable__label\" for=\"680de23a-3bd2-41a9-aab8-c4f6896bc149\">ColumnTransformer</label><div class=\"sk-toggleable__content\"><pre>ColumnTransformer(remainder='passthrough',\n",
       "                  transformers=[('standardscaler', StandardScaler(),\n",
       "                                 [0, 1, 3, 4]),\n",
       "                                ('kbinsdiscretizer', KBinsDiscretizer(), [5]),\n",
       "                                ('binarizer', Binarizer(threshold=50), [2])])</pre></div></div></div><div class=\"sk-parallel\"><div class=\"sk-parallel-item\"><div class=\"sk-item\"><div class=\"sk-label-container\"><div class=\"sk-label sk-toggleable\"><input class=\"sk-toggleable__control sk-hidden--visually\" id=\"012defe1-dc31-4e90-8e22-a2f390258fac\" type=\"checkbox\" ><label class=\"sk-toggleable__label\" for=\"012defe1-dc31-4e90-8e22-a2f390258fac\">standardscaler</label><div class=\"sk-toggleable__content\"><pre>[0, 1, 3, 4]</pre></div></div></div><div class=\"sk-serial\"><div class=\"sk-item\"><div class=\"sk-estimator sk-toggleable\"><input class=\"sk-toggleable__control sk-hidden--visually\" id=\"9b14d9c8-25be-4043-92ca-45d60235b247\" type=\"checkbox\" ><label class=\"sk-toggleable__label\" for=\"9b14d9c8-25be-4043-92ca-45d60235b247\">StandardScaler</label><div class=\"sk-toggleable__content\"><pre>StandardScaler()</pre></div></div></div></div></div></div><div class=\"sk-parallel-item\"><div class=\"sk-item\"><div class=\"sk-label-container\"><div class=\"sk-label sk-toggleable\"><input class=\"sk-toggleable__control sk-hidden--visually\" id=\"73191706-86c7-48cb-a7a8-271c155061f5\" type=\"checkbox\" ><label class=\"sk-toggleable__label\" for=\"73191706-86c7-48cb-a7a8-271c155061f5\">kbinsdiscretizer</label><div class=\"sk-toggleable__content\"><pre>[5]</pre></div></div></div><div class=\"sk-serial\"><div class=\"sk-item\"><div class=\"sk-estimator sk-toggleable\"><input class=\"sk-toggleable__control sk-hidden--visually\" id=\"a31ea0a2-f5bd-4a44-ace4-ddc254ec4eac\" type=\"checkbox\" ><label class=\"sk-toggleable__label\" for=\"a31ea0a2-f5bd-4a44-ace4-ddc254ec4eac\">KBinsDiscretizer</label><div class=\"sk-toggleable__content\"><pre>KBinsDiscretizer()</pre></div></div></div></div></div></div><div class=\"sk-parallel-item\"><div class=\"sk-item\"><div class=\"sk-label-container\"><div class=\"sk-label sk-toggleable\"><input class=\"sk-toggleable__control sk-hidden--visually\" id=\"12cddea4-8c8f-495f-b4bb-942531706b1f\" type=\"checkbox\" ><label class=\"sk-toggleable__label\" for=\"12cddea4-8c8f-495f-b4bb-942531706b1f\">binarizer</label><div class=\"sk-toggleable__content\"><pre>[2]</pre></div></div></div><div class=\"sk-serial\"><div class=\"sk-item\"><div class=\"sk-estimator sk-toggleable\"><input class=\"sk-toggleable__control sk-hidden--visually\" id=\"b225d58c-74b3-4268-81b8-5e808cf4ca84\" type=\"checkbox\" ><label class=\"sk-toggleable__label\" for=\"b225d58c-74b3-4268-81b8-5e808cf4ca84\">Binarizer</label><div class=\"sk-toggleable__content\"><pre>Binarizer(threshold=50)</pre></div></div></div></div></div></div></div></div></div></div>"
      ],
      "text/plain": [
       "ColumnTransformer(remainder='passthrough',\n",
       "                  transformers=[('standardscaler', StandardScaler(),\n",
       "                                 [0, 1, 3, 4]),\n",
       "                                ('kbinsdiscretizer', KBinsDiscretizer(), [5]),\n",
       "                                ('binarizer', Binarizer(threshold=50), [2])])"
      ]
     },
     "execution_count": 16,
     "metadata": {},
     "output_type": "execute_result"
    }
   ],
   "source": [
    "from sklearn.preprocessing import OneHotEncoder,OrdinalEncoder\n",
    "from sklearn.preprocessing import StandardScaler,KBinsDiscretizer,Binarizer \n",
    "from sklearn.compose import make_column_transformer\n",
    "from sklearn import set_config\n",
    "trans  = make_column_transformer((StandardScaler(),numeric_col),\n",
    "                                 (KBinsDiscretizer(),KBin_col),\n",
    "                                 (Binarizer(threshold = 50),Bina_col),\n",
    "                                  remainder = 'passthrough')\n",
    "set_config(display = 'diagram')\n",
    "trans"
   ]
  },
  {
   "cell_type": "code",
   "execution_count": 17,
   "id": "45f9bc29",
   "metadata": {
    "execution": {
     "iopub.execute_input": "2021-12-27T23:40:12.454971Z",
     "iopub.status.busy": "2021-12-27T23:40:12.454324Z",
     "iopub.status.idle": "2021-12-27T23:40:12.495084Z",
     "shell.execute_reply": "2021-12-27T23:40:12.494622Z",
     "shell.execute_reply.started": "2021-12-27T20:48:33.526042Z"
    },
    "papermill": {
     "duration": 0.081369,
     "end_time": "2021-12-27T23:40:12.495196",
     "exception": false,
     "start_time": "2021-12-27T23:40:12.413827",
     "status": "completed"
    },
    "tags": []
   },
   "outputs": [],
   "source": [
    "from sklearn.model_selection import train_test_split\n",
    "\n",
    "x_train,x_test,y_train,y_test = train_test_split(x,y,test_size = 0.34)  "
   ]
  },
  {
   "cell_type": "code",
   "execution_count": 18,
   "id": "806f0b27",
   "metadata": {
    "execution": {
     "iopub.execute_input": "2021-12-27T23:40:12.573400Z",
     "iopub.status.busy": "2021-12-27T23:40:12.572692Z",
     "iopub.status.idle": "2021-12-27T23:40:12.680022Z",
     "shell.execute_reply": "2021-12-27T23:40:12.680411Z",
     "shell.execute_reply.started": "2021-12-27T20:49:38.721569Z"
    },
    "papermill": {
     "duration": 0.148522,
     "end_time": "2021-12-27T23:40:12.680548",
     "exception": false,
     "start_time": "2021-12-27T23:40:12.532026",
     "status": "completed"
    },
    "tags": []
   },
   "outputs": [],
   "source": [
    "from sklearn.neighbors import KNeighborsClassifier\n",
    "from sklearn.pipeline import make_pipeline\n",
    "model = KNeighborsClassifier(9)\n",
    "pipe = make_pipeline(trans,model)\n"
   ]
  },
  {
   "cell_type": "code",
   "execution_count": 19,
   "id": "b89088d6",
   "metadata": {
    "execution": {
     "iopub.execute_input": "2021-12-27T23:40:12.761772Z",
     "iopub.status.busy": "2021-12-27T23:40:12.760634Z",
     "iopub.status.idle": "2021-12-27T23:40:12.763678Z",
     "shell.execute_reply": "2021-12-27T23:40:12.764096Z",
     "shell.execute_reply.started": "2021-12-27T20:49:41.332902Z"
    },
    "papermill": {
     "duration": 0.045995,
     "end_time": "2021-12-27T23:40:12.764219",
     "exception": false,
     "start_time": "2021-12-27T23:40:12.718224",
     "status": "completed"
    },
    "tags": []
   },
   "outputs": [
    {
     "data": {
      "text/html": [
       "<style>div.sk-top-container {color: black;background-color: white;}div.sk-toggleable {background-color: white;}label.sk-toggleable__label {cursor: pointer;display: block;width: 100%;margin-bottom: 0;padding: 0.2em 0.3em;box-sizing: border-box;text-align: center;}div.sk-toggleable__content {max-height: 0;max-width: 0;overflow: hidden;text-align: left;background-color: #f0f8ff;}div.sk-toggleable__content pre {margin: 0.2em;color: black;border-radius: 0.25em;background-color: #f0f8ff;}input.sk-toggleable__control:checked~div.sk-toggleable__content {max-height: 200px;max-width: 100%;overflow: auto;}div.sk-estimator input.sk-toggleable__control:checked~label.sk-toggleable__label {background-color: #d4ebff;}div.sk-label input.sk-toggleable__control:checked~label.sk-toggleable__label {background-color: #d4ebff;}input.sk-hidden--visually {border: 0;clip: rect(1px 1px 1px 1px);clip: rect(1px, 1px, 1px, 1px);height: 1px;margin: -1px;overflow: hidden;padding: 0;position: absolute;width: 1px;}div.sk-estimator {font-family: monospace;background-color: #f0f8ff;margin: 0.25em 0.25em;border: 1px dotted black;border-radius: 0.25em;box-sizing: border-box;}div.sk-estimator:hover {background-color: #d4ebff;}div.sk-parallel-item::after {content: \"\";width: 100%;border-bottom: 1px solid gray;flex-grow: 1;}div.sk-label:hover label.sk-toggleable__label {background-color: #d4ebff;}div.sk-serial::before {content: \"\";position: absolute;border-left: 1px solid gray;box-sizing: border-box;top: 2em;bottom: 0;left: 50%;}div.sk-serial {display: flex;flex-direction: column;align-items: center;background-color: white;}div.sk-item {z-index: 1;}div.sk-parallel {display: flex;align-items: stretch;justify-content: center;background-color: white;}div.sk-parallel-item {display: flex;flex-direction: column;position: relative;background-color: white;}div.sk-parallel-item:first-child::after {align-self: flex-end;width: 50%;}div.sk-parallel-item:last-child::after {align-self: flex-start;width: 50%;}div.sk-parallel-item:only-child::after {width: 0;}div.sk-dashed-wrapped {border: 1px dashed gray;margin: 0.2em;box-sizing: border-box;padding-bottom: 0.1em;background-color: white;position: relative;}div.sk-label label {font-family: monospace;font-weight: bold;background-color: white;display: inline-block;line-height: 1.2em;}div.sk-label-container {position: relative;z-index: 2;text-align: center;}div.sk-container {display: inline-block;position: relative;}</style><div class=\"sk-top-container\"><div class=\"sk-container\"><div class=\"sk-item\"><div class=\"sk-estimator sk-toggleable\"><input class=\"sk-toggleable__control sk-hidden--visually\" id=\"5881bea6-274a-43e4-9983-de0d9d5ac369\" type=\"checkbox\" checked><label class=\"sk-toggleable__label\" for=\"5881bea6-274a-43e4-9983-de0d9d5ac369\">KNeighborsClassifier</label><div class=\"sk-toggleable__content\"><pre>KNeighborsClassifier(n_neighbors=9)</pre></div></div></div></div></div>"
      ],
      "text/plain": [
       "KNeighborsClassifier(n_neighbors=9)"
      ]
     },
     "execution_count": 19,
     "metadata": {},
     "output_type": "execute_result"
    }
   ],
   "source": [
    "model"
   ]
  },
  {
   "cell_type": "code",
   "execution_count": 20,
   "id": "47a5ff27",
   "metadata": {
    "execution": {
     "iopub.execute_input": "2021-12-27T23:40:12.871110Z",
     "iopub.status.busy": "2021-12-27T23:40:12.862750Z",
     "iopub.status.idle": "2021-12-27T23:40:12.876190Z",
     "shell.execute_reply": "2021-12-27T23:40:12.875754Z",
     "shell.execute_reply.started": "2021-12-27T20:49:43.338510Z"
    },
    "papermill": {
     "duration": 0.074254,
     "end_time": "2021-12-27T23:40:12.876297",
     "exception": false,
     "start_time": "2021-12-27T23:40:12.802043",
     "status": "completed"
    },
    "tags": []
   },
   "outputs": [
    {
     "data": {
      "text/html": [
       "<style>div.sk-top-container {color: black;background-color: white;}div.sk-toggleable {background-color: white;}label.sk-toggleable__label {cursor: pointer;display: block;width: 100%;margin-bottom: 0;padding: 0.2em 0.3em;box-sizing: border-box;text-align: center;}div.sk-toggleable__content {max-height: 0;max-width: 0;overflow: hidden;text-align: left;background-color: #f0f8ff;}div.sk-toggleable__content pre {margin: 0.2em;color: black;border-radius: 0.25em;background-color: #f0f8ff;}input.sk-toggleable__control:checked~div.sk-toggleable__content {max-height: 200px;max-width: 100%;overflow: auto;}div.sk-estimator input.sk-toggleable__control:checked~label.sk-toggleable__label {background-color: #d4ebff;}div.sk-label input.sk-toggleable__control:checked~label.sk-toggleable__label {background-color: #d4ebff;}input.sk-hidden--visually {border: 0;clip: rect(1px 1px 1px 1px);clip: rect(1px, 1px, 1px, 1px);height: 1px;margin: -1px;overflow: hidden;padding: 0;position: absolute;width: 1px;}div.sk-estimator {font-family: monospace;background-color: #f0f8ff;margin: 0.25em 0.25em;border: 1px dotted black;border-radius: 0.25em;box-sizing: border-box;}div.sk-estimator:hover {background-color: #d4ebff;}div.sk-parallel-item::after {content: \"\";width: 100%;border-bottom: 1px solid gray;flex-grow: 1;}div.sk-label:hover label.sk-toggleable__label {background-color: #d4ebff;}div.sk-serial::before {content: \"\";position: absolute;border-left: 1px solid gray;box-sizing: border-box;top: 2em;bottom: 0;left: 50%;}div.sk-serial {display: flex;flex-direction: column;align-items: center;background-color: white;}div.sk-item {z-index: 1;}div.sk-parallel {display: flex;align-items: stretch;justify-content: center;background-color: white;}div.sk-parallel-item {display: flex;flex-direction: column;position: relative;background-color: white;}div.sk-parallel-item:first-child::after {align-self: flex-end;width: 50%;}div.sk-parallel-item:last-child::after {align-self: flex-start;width: 50%;}div.sk-parallel-item:only-child::after {width: 0;}div.sk-dashed-wrapped {border: 1px dashed gray;margin: 0.2em;box-sizing: border-box;padding-bottom: 0.1em;background-color: white;position: relative;}div.sk-label label {font-family: monospace;font-weight: bold;background-color: white;display: inline-block;line-height: 1.2em;}div.sk-label-container {position: relative;z-index: 2;text-align: center;}div.sk-container {display: inline-block;position: relative;}</style><div class=\"sk-top-container\"><div class=\"sk-container\"><div class=\"sk-item sk-dashed-wrapped\"><div class=\"sk-label-container\"><div class=\"sk-label sk-toggleable\"><input class=\"sk-toggleable__control sk-hidden--visually\" id=\"28ae0a19-56cd-45a4-acd9-ef85bfcec725\" type=\"checkbox\" ><label class=\"sk-toggleable__label\" for=\"28ae0a19-56cd-45a4-acd9-ef85bfcec725\">Pipeline</label><div class=\"sk-toggleable__content\"><pre>Pipeline(steps=[('columntransformer',\n",
       "                 ColumnTransformer(remainder='passthrough',\n",
       "                                   transformers=[('standardscaler',\n",
       "                                                  StandardScaler(),\n",
       "                                                  [0, 1, 3, 4]),\n",
       "                                                 ('kbinsdiscretizer',\n",
       "                                                  KBinsDiscretizer(), [5]),\n",
       "                                                 ('binarizer',\n",
       "                                                  Binarizer(threshold=50),\n",
       "                                                  [2])])),\n",
       "                ('kneighborsclassifier', KNeighborsClassifier(n_neighbors=9))])</pre></div></div></div><div class=\"sk-serial\"><div class=\"sk-item sk-dashed-wrapped\"><div class=\"sk-label-container\"><div class=\"sk-label sk-toggleable\"><input class=\"sk-toggleable__control sk-hidden--visually\" id=\"8f3c74e5-ee02-4e3b-9b4d-307307d4f158\" type=\"checkbox\" ><label class=\"sk-toggleable__label\" for=\"8f3c74e5-ee02-4e3b-9b4d-307307d4f158\">columntransformer: ColumnTransformer</label><div class=\"sk-toggleable__content\"><pre>ColumnTransformer(remainder='passthrough',\n",
       "                  transformers=[('standardscaler', StandardScaler(),\n",
       "                                 [0, 1, 3, 4]),\n",
       "                                ('kbinsdiscretizer', KBinsDiscretizer(), [5]),\n",
       "                                ('binarizer', Binarizer(threshold=50), [2])])</pre></div></div></div><div class=\"sk-parallel\"><div class=\"sk-parallel-item\"><div class=\"sk-item\"><div class=\"sk-label-container\"><div class=\"sk-label sk-toggleable\"><input class=\"sk-toggleable__control sk-hidden--visually\" id=\"47eeb82d-fe41-4e18-a1bb-d636e2575a20\" type=\"checkbox\" ><label class=\"sk-toggleable__label\" for=\"47eeb82d-fe41-4e18-a1bb-d636e2575a20\">standardscaler</label><div class=\"sk-toggleable__content\"><pre>[0, 1, 3, 4]</pre></div></div></div><div class=\"sk-serial\"><div class=\"sk-item\"><div class=\"sk-estimator sk-toggleable\"><input class=\"sk-toggleable__control sk-hidden--visually\" id=\"bb76fadd-570c-47a5-be3a-7a6048d89b3d\" type=\"checkbox\" ><label class=\"sk-toggleable__label\" for=\"bb76fadd-570c-47a5-be3a-7a6048d89b3d\">StandardScaler</label><div class=\"sk-toggleable__content\"><pre>StandardScaler()</pre></div></div></div></div></div></div><div class=\"sk-parallel-item\"><div class=\"sk-item\"><div class=\"sk-label-container\"><div class=\"sk-label sk-toggleable\"><input class=\"sk-toggleable__control sk-hidden--visually\" id=\"00078543-1d1e-4436-bbe1-ad9ac46d9654\" type=\"checkbox\" ><label class=\"sk-toggleable__label\" for=\"00078543-1d1e-4436-bbe1-ad9ac46d9654\">kbinsdiscretizer</label><div class=\"sk-toggleable__content\"><pre>[5]</pre></div></div></div><div class=\"sk-serial\"><div class=\"sk-item\"><div class=\"sk-estimator sk-toggleable\"><input class=\"sk-toggleable__control sk-hidden--visually\" id=\"d22be1ab-b409-4582-8b3b-18fc576487fc\" type=\"checkbox\" ><label class=\"sk-toggleable__label\" for=\"d22be1ab-b409-4582-8b3b-18fc576487fc\">KBinsDiscretizer</label><div class=\"sk-toggleable__content\"><pre>KBinsDiscretizer()</pre></div></div></div></div></div></div><div class=\"sk-parallel-item\"><div class=\"sk-item\"><div class=\"sk-label-container\"><div class=\"sk-label sk-toggleable\"><input class=\"sk-toggleable__control sk-hidden--visually\" id=\"2add77a1-fc3d-414d-8d7c-fb107c5581f7\" type=\"checkbox\" ><label class=\"sk-toggleable__label\" for=\"2add77a1-fc3d-414d-8d7c-fb107c5581f7\">binarizer</label><div class=\"sk-toggleable__content\"><pre>[2]</pre></div></div></div><div class=\"sk-serial\"><div class=\"sk-item\"><div class=\"sk-estimator sk-toggleable\"><input class=\"sk-toggleable__control sk-hidden--visually\" id=\"9431054b-811c-4d13-a8ff-b5e1819bd207\" type=\"checkbox\" ><label class=\"sk-toggleable__label\" for=\"9431054b-811c-4d13-a8ff-b5e1819bd207\">Binarizer</label><div class=\"sk-toggleable__content\"><pre>Binarizer(threshold=50)</pre></div></div></div></div></div></div></div></div><div class=\"sk-item\"><div class=\"sk-estimator sk-toggleable\"><input class=\"sk-toggleable__control sk-hidden--visually\" id=\"177bf6ab-520f-41ea-a107-21d476d1240d\" type=\"checkbox\" ><label class=\"sk-toggleable__label\" for=\"177bf6ab-520f-41ea-a107-21d476d1240d\">KNeighborsClassifier</label><div class=\"sk-toggleable__content\"><pre>KNeighborsClassifier(n_neighbors=9)</pre></div></div></div></div></div></div></div>"
      ],
      "text/plain": [
       "Pipeline(steps=[('columntransformer',\n",
       "                 ColumnTransformer(remainder='passthrough',\n",
       "                                   transformers=[('standardscaler',\n",
       "                                                  StandardScaler(),\n",
       "                                                  [0, 1, 3, 4]),\n",
       "                                                 ('kbinsdiscretizer',\n",
       "                                                  KBinsDiscretizer(), [5]),\n",
       "                                                 ('binarizer',\n",
       "                                                  Binarizer(threshold=50),\n",
       "                                                  [2])])),\n",
       "                ('kneighborsclassifier', KNeighborsClassifier(n_neighbors=9))])"
      ]
     },
     "execution_count": 20,
     "metadata": {},
     "output_type": "execute_result"
    }
   ],
   "source": [
    "pipe"
   ]
  },
  {
   "cell_type": "code",
   "execution_count": 21,
   "id": "eac13f76",
   "metadata": {
    "execution": {
     "iopub.execute_input": "2021-12-27T23:40:12.965048Z",
     "iopub.status.busy": "2021-12-27T23:40:12.957040Z",
     "iopub.status.idle": "2021-12-27T23:40:12.968311Z",
     "shell.execute_reply": "2021-12-27T23:40:12.967870Z",
     "shell.execute_reply.started": "2021-12-27T20:49:45.663700Z"
    },
    "papermill": {
     "duration": 0.054138,
     "end_time": "2021-12-27T23:40:12.968413",
     "exception": false,
     "start_time": "2021-12-27T23:40:12.914275",
     "status": "completed"
    },
    "tags": []
   },
   "outputs": [
    {
     "data": {
      "text/html": [
       "<div>\n",
       "<style scoped>\n",
       "    .dataframe tbody tr th:only-of-type {\n",
       "        vertical-align: middle;\n",
       "    }\n",
       "\n",
       "    .dataframe tbody tr th {\n",
       "        vertical-align: top;\n",
       "    }\n",
       "\n",
       "    .dataframe thead th {\n",
       "        text-align: right;\n",
       "    }\n",
       "</style>\n",
       "<table border=\"1\" class=\"dataframe\">\n",
       "  <thead>\n",
       "    <tr style=\"text-align: right;\">\n",
       "      <th></th>\n",
       "      <th>Pclass</th>\n",
       "      <th>Sex</th>\n",
       "      <th>Age</th>\n",
       "      <th>SibSp</th>\n",
       "      <th>Parch</th>\n",
       "      <th>Fare</th>\n",
       "    </tr>\n",
       "  </thead>\n",
       "  <tbody>\n",
       "    <tr>\n",
       "      <th>659</th>\n",
       "      <td>1</td>\n",
       "      <td>0</td>\n",
       "      <td>58.00</td>\n",
       "      <td>0</td>\n",
       "      <td>2</td>\n",
       "      <td>113.2750</td>\n",
       "    </tr>\n",
       "    <tr>\n",
       "      <th>695</th>\n",
       "      <td>2</td>\n",
       "      <td>0</td>\n",
       "      <td>52.00</td>\n",
       "      <td>0</td>\n",
       "      <td>0</td>\n",
       "      <td>13.5000</td>\n",
       "    </tr>\n",
       "    <tr>\n",
       "      <th>629</th>\n",
       "      <td>3</td>\n",
       "      <td>0</td>\n",
       "      <td>0.00</td>\n",
       "      <td>0</td>\n",
       "      <td>0</td>\n",
       "      <td>7.7333</td>\n",
       "    </tr>\n",
       "    <tr>\n",
       "      <th>793</th>\n",
       "      <td>1</td>\n",
       "      <td>0</td>\n",
       "      <td>0.00</td>\n",
       "      <td>0</td>\n",
       "      <td>0</td>\n",
       "      <td>30.6958</td>\n",
       "    </tr>\n",
       "    <tr>\n",
       "      <th>47</th>\n",
       "      <td>3</td>\n",
       "      <td>1</td>\n",
       "      <td>0.00</td>\n",
       "      <td>0</td>\n",
       "      <td>0</td>\n",
       "      <td>7.7500</td>\n",
       "    </tr>\n",
       "    <tr>\n",
       "      <th>...</th>\n",
       "      <td>...</td>\n",
       "      <td>...</td>\n",
       "      <td>...</td>\n",
       "      <td>...</td>\n",
       "      <td>...</td>\n",
       "      <td>...</td>\n",
       "    </tr>\n",
       "    <tr>\n",
       "      <th>600</th>\n",
       "      <td>2</td>\n",
       "      <td>1</td>\n",
       "      <td>24.00</td>\n",
       "      <td>2</td>\n",
       "      <td>1</td>\n",
       "      <td>27.0000</td>\n",
       "    </tr>\n",
       "    <tr>\n",
       "      <th>142</th>\n",
       "      <td>3</td>\n",
       "      <td>1</td>\n",
       "      <td>24.00</td>\n",
       "      <td>1</td>\n",
       "      <td>0</td>\n",
       "      <td>15.8500</td>\n",
       "    </tr>\n",
       "    <tr>\n",
       "      <th>850</th>\n",
       "      <td>3</td>\n",
       "      <td>0</td>\n",
       "      <td>4.00</td>\n",
       "      <td>4</td>\n",
       "      <td>2</td>\n",
       "      <td>31.2750</td>\n",
       "    </tr>\n",
       "    <tr>\n",
       "      <th>644</th>\n",
       "      <td>3</td>\n",
       "      <td>1</td>\n",
       "      <td>0.75</td>\n",
       "      <td>2</td>\n",
       "      <td>1</td>\n",
       "      <td>19.2583</td>\n",
       "    </tr>\n",
       "    <tr>\n",
       "      <th>412</th>\n",
       "      <td>1</td>\n",
       "      <td>1</td>\n",
       "      <td>33.00</td>\n",
       "      <td>1</td>\n",
       "      <td>0</td>\n",
       "      <td>90.0000</td>\n",
       "    </tr>\n",
       "  </tbody>\n",
       "</table>\n",
       "<p>588 rows × 6 columns</p>\n",
       "</div>"
      ],
      "text/plain": [
       "     Pclass  Sex    Age  SibSp  Parch      Fare\n",
       "659       1    0  58.00      0      2  113.2750\n",
       "695       2    0  52.00      0      0   13.5000\n",
       "629       3    0   0.00      0      0    7.7333\n",
       "793       1    0   0.00      0      0   30.6958\n",
       "47        3    1   0.00      0      0    7.7500\n",
       "..      ...  ...    ...    ...    ...       ...\n",
       "600       2    1  24.00      2      1   27.0000\n",
       "142       3    1  24.00      1      0   15.8500\n",
       "850       3    0   4.00      4      2   31.2750\n",
       "644       3    1   0.75      2      1   19.2583\n",
       "412       1    1  33.00      1      0   90.0000\n",
       "\n",
       "[588 rows x 6 columns]"
      ]
     },
     "execution_count": 21,
     "metadata": {},
     "output_type": "execute_result"
    }
   ],
   "source": [
    "x_train"
   ]
  },
  {
   "cell_type": "code",
   "execution_count": 22,
   "id": "96f34574",
   "metadata": {
    "execution": {
     "iopub.execute_input": "2021-12-27T23:40:13.051117Z",
     "iopub.status.busy": "2021-12-27T23:40:13.050391Z",
     "iopub.status.idle": "2021-12-27T23:40:13.053631Z",
     "shell.execute_reply": "2021-12-27T23:40:13.053214Z",
     "shell.execute_reply.started": "2021-12-27T20:49:49.619487Z"
    },
    "papermill": {
     "duration": 0.046145,
     "end_time": "2021-12-27T23:40:13.053732",
     "exception": false,
     "start_time": "2021-12-27T23:40:13.007587",
     "status": "completed"
    },
    "tags": []
   },
   "outputs": [
    {
     "data": {
      "text/plain": [
       "659    0\n",
       "695    0\n",
       "629    0\n",
       "793    0\n",
       "47     1\n",
       "      ..\n",
       "600    1\n",
       "142    1\n",
       "850    0\n",
       "644    1\n",
       "412    1\n",
       "Name: Survived, Length: 588, dtype: int64"
      ]
     },
     "execution_count": 22,
     "metadata": {},
     "output_type": "execute_result"
    }
   ],
   "source": [
    "y_train"
   ]
  },
  {
   "cell_type": "code",
   "execution_count": 23,
   "id": "4de6c08e",
   "metadata": {
    "execution": {
     "iopub.execute_input": "2021-12-27T23:40:13.137294Z",
     "iopub.status.busy": "2021-12-27T23:40:13.136299Z",
     "iopub.status.idle": "2021-12-27T23:40:13.178201Z",
     "shell.execute_reply": "2021-12-27T23:40:13.178627Z",
     "shell.execute_reply.started": "2021-12-27T20:49:52.709910Z"
    },
    "papermill": {
     "duration": 0.086426,
     "end_time": "2021-12-27T23:40:13.178747",
     "exception": false,
     "start_time": "2021-12-27T23:40:13.092321",
     "status": "completed"
    },
    "tags": []
   },
   "outputs": [
    {
     "data": {
      "text/html": [
       "<style>div.sk-top-container {color: black;background-color: white;}div.sk-toggleable {background-color: white;}label.sk-toggleable__label {cursor: pointer;display: block;width: 100%;margin-bottom: 0;padding: 0.2em 0.3em;box-sizing: border-box;text-align: center;}div.sk-toggleable__content {max-height: 0;max-width: 0;overflow: hidden;text-align: left;background-color: #f0f8ff;}div.sk-toggleable__content pre {margin: 0.2em;color: black;border-radius: 0.25em;background-color: #f0f8ff;}input.sk-toggleable__control:checked~div.sk-toggleable__content {max-height: 200px;max-width: 100%;overflow: auto;}div.sk-estimator input.sk-toggleable__control:checked~label.sk-toggleable__label {background-color: #d4ebff;}div.sk-label input.sk-toggleable__control:checked~label.sk-toggleable__label {background-color: #d4ebff;}input.sk-hidden--visually {border: 0;clip: rect(1px 1px 1px 1px);clip: rect(1px, 1px, 1px, 1px);height: 1px;margin: -1px;overflow: hidden;padding: 0;position: absolute;width: 1px;}div.sk-estimator {font-family: monospace;background-color: #f0f8ff;margin: 0.25em 0.25em;border: 1px dotted black;border-radius: 0.25em;box-sizing: border-box;}div.sk-estimator:hover {background-color: #d4ebff;}div.sk-parallel-item::after {content: \"\";width: 100%;border-bottom: 1px solid gray;flex-grow: 1;}div.sk-label:hover label.sk-toggleable__label {background-color: #d4ebff;}div.sk-serial::before {content: \"\";position: absolute;border-left: 1px solid gray;box-sizing: border-box;top: 2em;bottom: 0;left: 50%;}div.sk-serial {display: flex;flex-direction: column;align-items: center;background-color: white;}div.sk-item {z-index: 1;}div.sk-parallel {display: flex;align-items: stretch;justify-content: center;background-color: white;}div.sk-parallel-item {display: flex;flex-direction: column;position: relative;background-color: white;}div.sk-parallel-item:first-child::after {align-self: flex-end;width: 50%;}div.sk-parallel-item:last-child::after {align-self: flex-start;width: 50%;}div.sk-parallel-item:only-child::after {width: 0;}div.sk-dashed-wrapped {border: 1px dashed gray;margin: 0.2em;box-sizing: border-box;padding-bottom: 0.1em;background-color: white;position: relative;}div.sk-label label {font-family: monospace;font-weight: bold;background-color: white;display: inline-block;line-height: 1.2em;}div.sk-label-container {position: relative;z-index: 2;text-align: center;}div.sk-container {display: inline-block;position: relative;}</style><div class=\"sk-top-container\"><div class=\"sk-container\"><div class=\"sk-item sk-dashed-wrapped\"><div class=\"sk-label-container\"><div class=\"sk-label sk-toggleable\"><input class=\"sk-toggleable__control sk-hidden--visually\" id=\"cb8d7bef-ad5f-44b7-b728-2fc1650f694c\" type=\"checkbox\" ><label class=\"sk-toggleable__label\" for=\"cb8d7bef-ad5f-44b7-b728-2fc1650f694c\">Pipeline</label><div class=\"sk-toggleable__content\"><pre>Pipeline(steps=[('columntransformer',\n",
       "                 ColumnTransformer(remainder='passthrough',\n",
       "                                   transformers=[('standardscaler',\n",
       "                                                  StandardScaler(),\n",
       "                                                  [0, 1, 3, 4]),\n",
       "                                                 ('kbinsdiscretizer',\n",
       "                                                  KBinsDiscretizer(), [5]),\n",
       "                                                 ('binarizer',\n",
       "                                                  Binarizer(threshold=50),\n",
       "                                                  [2])])),\n",
       "                ('kneighborsclassifier', KNeighborsClassifier(n_neighbors=9))])</pre></div></div></div><div class=\"sk-serial\"><div class=\"sk-item sk-dashed-wrapped\"><div class=\"sk-label-container\"><div class=\"sk-label sk-toggleable\"><input class=\"sk-toggleable__control sk-hidden--visually\" id=\"2d3d015d-1f56-4434-b0bf-f85e61d8c81a\" type=\"checkbox\" ><label class=\"sk-toggleable__label\" for=\"2d3d015d-1f56-4434-b0bf-f85e61d8c81a\">columntransformer: ColumnTransformer</label><div class=\"sk-toggleable__content\"><pre>ColumnTransformer(remainder='passthrough',\n",
       "                  transformers=[('standardscaler', StandardScaler(),\n",
       "                                 [0, 1, 3, 4]),\n",
       "                                ('kbinsdiscretizer', KBinsDiscretizer(), [5]),\n",
       "                                ('binarizer', Binarizer(threshold=50), [2])])</pre></div></div></div><div class=\"sk-parallel\"><div class=\"sk-parallel-item\"><div class=\"sk-item\"><div class=\"sk-label-container\"><div class=\"sk-label sk-toggleable\"><input class=\"sk-toggleable__control sk-hidden--visually\" id=\"5c196ba2-f6b5-49ca-a174-6acc75976594\" type=\"checkbox\" ><label class=\"sk-toggleable__label\" for=\"5c196ba2-f6b5-49ca-a174-6acc75976594\">standardscaler</label><div class=\"sk-toggleable__content\"><pre>[0, 1, 3, 4]</pre></div></div></div><div class=\"sk-serial\"><div class=\"sk-item\"><div class=\"sk-estimator sk-toggleable\"><input class=\"sk-toggleable__control sk-hidden--visually\" id=\"80b852ce-948c-45fc-b30e-5875167157fc\" type=\"checkbox\" ><label class=\"sk-toggleable__label\" for=\"80b852ce-948c-45fc-b30e-5875167157fc\">StandardScaler</label><div class=\"sk-toggleable__content\"><pre>StandardScaler()</pre></div></div></div></div></div></div><div class=\"sk-parallel-item\"><div class=\"sk-item\"><div class=\"sk-label-container\"><div class=\"sk-label sk-toggleable\"><input class=\"sk-toggleable__control sk-hidden--visually\" id=\"ed85b94b-4dd9-4670-b92b-f5bb3fb2eb0e\" type=\"checkbox\" ><label class=\"sk-toggleable__label\" for=\"ed85b94b-4dd9-4670-b92b-f5bb3fb2eb0e\">kbinsdiscretizer</label><div class=\"sk-toggleable__content\"><pre>[5]</pre></div></div></div><div class=\"sk-serial\"><div class=\"sk-item\"><div class=\"sk-estimator sk-toggleable\"><input class=\"sk-toggleable__control sk-hidden--visually\" id=\"7a6b2708-8fb4-498a-a346-29b41f932102\" type=\"checkbox\" ><label class=\"sk-toggleable__label\" for=\"7a6b2708-8fb4-498a-a346-29b41f932102\">KBinsDiscretizer</label><div class=\"sk-toggleable__content\"><pre>KBinsDiscretizer()</pre></div></div></div></div></div></div><div class=\"sk-parallel-item\"><div class=\"sk-item\"><div class=\"sk-label-container\"><div class=\"sk-label sk-toggleable\"><input class=\"sk-toggleable__control sk-hidden--visually\" id=\"9885a6ba-e4f7-44d3-9aba-e6a412e586be\" type=\"checkbox\" ><label class=\"sk-toggleable__label\" for=\"9885a6ba-e4f7-44d3-9aba-e6a412e586be\">binarizer</label><div class=\"sk-toggleable__content\"><pre>[2]</pre></div></div></div><div class=\"sk-serial\"><div class=\"sk-item\"><div class=\"sk-estimator sk-toggleable\"><input class=\"sk-toggleable__control sk-hidden--visually\" id=\"8f3e2c55-9483-4b4d-846a-590dbd4f9ef8\" type=\"checkbox\" ><label class=\"sk-toggleable__label\" for=\"8f3e2c55-9483-4b4d-846a-590dbd4f9ef8\">Binarizer</label><div class=\"sk-toggleable__content\"><pre>Binarizer(threshold=50)</pre></div></div></div></div></div></div></div></div><div class=\"sk-item\"><div class=\"sk-estimator sk-toggleable\"><input class=\"sk-toggleable__control sk-hidden--visually\" id=\"bf69d330-331d-4c6f-9c57-65565b05b9df\" type=\"checkbox\" ><label class=\"sk-toggleable__label\" for=\"bf69d330-331d-4c6f-9c57-65565b05b9df\">KNeighborsClassifier</label><div class=\"sk-toggleable__content\"><pre>KNeighborsClassifier(n_neighbors=9)</pre></div></div></div></div></div></div></div>"
      ],
      "text/plain": [
       "Pipeline(steps=[('columntransformer',\n",
       "                 ColumnTransformer(remainder='passthrough',\n",
       "                                   transformers=[('standardscaler',\n",
       "                                                  StandardScaler(),\n",
       "                                                  [0, 1, 3, 4]),\n",
       "                                                 ('kbinsdiscretizer',\n",
       "                                                  KBinsDiscretizer(), [5]),\n",
       "                                                 ('binarizer',\n",
       "                                                  Binarizer(threshold=50),\n",
       "                                                  [2])])),\n",
       "                ('kneighborsclassifier', KNeighborsClassifier(n_neighbors=9))])"
      ]
     },
     "execution_count": 23,
     "metadata": {},
     "output_type": "execute_result"
    }
   ],
   "source": [
    "pipe.fit(x_train,y_train)"
   ]
  },
  {
   "cell_type": "code",
   "execution_count": 24,
   "id": "153f2a56",
   "metadata": {
    "execution": {
     "iopub.execute_input": "2021-12-27T23:40:13.267014Z",
     "iopub.status.busy": "2021-12-27T23:40:13.259894Z",
     "iopub.status.idle": "2021-12-27T23:40:13.284110Z",
     "shell.execute_reply": "2021-12-27T23:40:13.283662Z",
     "shell.execute_reply.started": "2021-12-27T20:49:56.254895Z"
    },
    "papermill": {
     "duration": 0.066138,
     "end_time": "2021-12-27T23:40:13.284215",
     "exception": false,
     "start_time": "2021-12-27T23:40:13.218077",
     "status": "completed"
    },
    "tags": []
   },
   "outputs": [],
   "source": [
    "pred = pipe.predict(x_test)\n"
   ]
  },
  {
   "cell_type": "code",
   "execution_count": 25,
   "id": "37d424fb",
   "metadata": {
    "execution": {
     "iopub.execute_input": "2021-12-27T23:40:13.370445Z",
     "iopub.status.busy": "2021-12-27T23:40:13.369777Z",
     "iopub.status.idle": "2021-12-27T23:40:13.372368Z",
     "shell.execute_reply": "2021-12-27T23:40:13.372761Z",
     "shell.execute_reply.started": "2021-12-27T20:49:59.752680Z"
    },
    "papermill": {
     "duration": 0.048809,
     "end_time": "2021-12-27T23:40:13.372889",
     "exception": false,
     "start_time": "2021-12-27T23:40:13.324080",
     "status": "completed"
    },
    "tags": []
   },
   "outputs": [
    {
     "data": {
      "text/plain": [
       "83.4983498349835"
      ]
     },
     "execution_count": 25,
     "metadata": {},
     "output_type": "execute_result"
    }
   ],
   "source": [
    "from sklearn.metrics import accuracy_score\n",
    "accuracy_score(pred,y_test)*100"
   ]
  },
  {
   "cell_type": "code",
   "execution_count": 26,
   "id": "01f70f04",
   "metadata": {
    "execution": {
     "iopub.execute_input": "2021-12-27T23:40:13.461542Z",
     "iopub.status.busy": "2021-12-27T23:40:13.460507Z",
     "iopub.status.idle": "2021-12-27T23:40:13.708305Z",
     "shell.execute_reply": "2021-12-27T23:40:13.707857Z",
     "shell.execute_reply.started": "2021-12-27T20:50:03.130887Z"
    },
    "papermill": {
     "duration": 0.294293,
     "end_time": "2021-12-27T23:40:13.708417",
     "exception": false,
     "start_time": "2021-12-27T23:40:13.414124",
     "status": "completed"
    },
    "tags": []
   },
   "outputs": [
    {
     "data": {
      "text/plain": [
       "<sklearn.metrics._plot.confusion_matrix.ConfusionMatrixDisplay at 0x7f327cb68550>"
      ]
     },
     "execution_count": 26,
     "metadata": {},
     "output_type": "execute_result"
    },
    {
     "data": {
      "image/png": "[encoded data removed]",
      "text/plain": [
       "<Figure size 432x288 with 2 Axes>"
      ]
     },
     "metadata": {
      "needs_background": "light"
     },
     "output_type": "display_data"
    }
   ],
   "source": [
    "from sklearn.metrics import plot_confusion_matrix\n",
    "plot_confusion_matrix(pipe,x_test,y_test)\n"
   ]
  },
  {
   "cell_type": "code",
   "execution_count": 27,
   "id": "b90d87f9",
   "metadata": {
    "execution": {
     "iopub.execute_input": "2021-12-27T23:40:13.793889Z",
     "iopub.status.busy": "2021-12-27T23:40:13.793112Z",
     "iopub.status.idle": "2021-12-27T23:40:13.795542Z",
     "shell.execute_reply": "2021-12-27T23:40:13.795052Z",
     "shell.execute_reply.started": "2021-12-27T20:50:13.229570Z"
    },
    "papermill": {
     "duration": 0.045969,
     "end_time": "2021-12-27T23:40:13.795652",
     "exception": false,
     "start_time": "2021-12-27T23:40:13.749683",
     "status": "completed"
    },
    "tags": []
   },
   "outputs": [],
   "source": [
    "# from sklearn.svm import SVC\n",
    "# from sklearn.pipeline import make_pipeline\n",
    "# model_n =SVC(kernel='linear')\n",
    "# pipe_n = make_pipeline(trans,model_n)\n",
    "# pipe_n.fit(x_train,y_train)\n",
    "# pred_n = pipe_n.predict(x_test)\n",
    "# accuracy_score(pred_n,y_test)*100"
   ]
  },
  {
   "cell_type": "code",
   "execution_count": 28,
   "id": "7a0aa264",
   "metadata": {
    "execution": {
     "iopub.execute_input": "2021-12-27T23:40:13.881824Z",
     "iopub.status.busy": "2021-12-27T23:40:13.881068Z",
     "iopub.status.idle": "2021-12-27T23:40:13.883464Z",
     "shell.execute_reply": "2021-12-27T23:40:13.883048Z",
     "shell.execute_reply.started": "2021-12-27T20:50:19.141552Z"
    },
    "papermill": {
     "duration": 0.04734,
     "end_time": "2021-12-27T23:40:13.883574",
     "exception": false,
     "start_time": "2021-12-27T23:40:13.836234",
     "status": "completed"
    },
    "tags": []
   },
   "outputs": [],
   "source": [
    "from sklearn.linear_model import LogisticRegression\n",
    "from sklearn.pipeline import make_pipeline\n",
    "model_2 = LogisticRegression(solver = 'liblinear')\n",
    "pipe_2 = make_pipeline(trans,model_2)"
   ]
  },
  {
   "cell_type": "code",
   "execution_count": 29,
   "id": "a9cf9cc2",
   "metadata": {
    "execution": {
     "iopub.execute_input": "2021-12-27T23:40:13.969110Z",
     "iopub.status.busy": "2021-12-27T23:40:13.968329Z",
     "iopub.status.idle": "2021-12-27T23:40:13.971721Z",
     "shell.execute_reply": "2021-12-27T23:40:13.971305Z",
     "shell.execute_reply.started": "2021-12-27T20:53:30.962240Z"
    },
    "papermill": {
     "duration": 0.047846,
     "end_time": "2021-12-27T23:40:13.971821",
     "exception": false,
     "start_time": "2021-12-27T23:40:13.923975",
     "status": "completed"
    },
    "tags": []
   },
   "outputs": [
    {
     "data": {
      "text/html": [
       "<style>div.sk-top-container {color: black;background-color: white;}div.sk-toggleable {background-color: white;}label.sk-toggleable__label {cursor: pointer;display: block;width: 100%;margin-bottom: 0;padding: 0.2em 0.3em;box-sizing: border-box;text-align: center;}div.sk-toggleable__content {max-height: 0;max-width: 0;overflow: hidden;text-align: left;background-color: #f0f8ff;}div.sk-toggleable__content pre {margin: 0.2em;color: black;border-radius: 0.25em;background-color: #f0f8ff;}input.sk-toggleable__control:checked~div.sk-toggleable__content {max-height: 200px;max-width: 100%;overflow: auto;}div.sk-estimator input.sk-toggleable__control:checked~label.sk-toggleable__label {background-color: #d4ebff;}div.sk-label input.sk-toggleable__control:checked~label.sk-toggleable__label {background-color: #d4ebff;}input.sk-hidden--visually {border: 0;clip: rect(1px 1px 1px 1px);clip: rect(1px, 1px, 1px, 1px);height: 1px;margin: -1px;overflow: hidden;padding: 0;position: absolute;width: 1px;}div.sk-estimator {font-family: monospace;background-color: #f0f8ff;margin: 0.25em 0.25em;border: 1px dotted black;border-radius: 0.25em;box-sizing: border-box;}div.sk-estimator:hover {background-color: #d4ebff;}div.sk-parallel-item::after {content: \"\";width: 100%;border-bottom: 1px solid gray;flex-grow: 1;}div.sk-label:hover label.sk-toggleable__label {background-color: #d4ebff;}div.sk-serial::before {content: \"\";position: absolute;border-left: 1px solid gray;box-sizing: border-box;top: 2em;bottom: 0;left: 50%;}div.sk-serial {display: flex;flex-direction: column;align-items: center;background-color: white;}div.sk-item {z-index: 1;}div.sk-parallel {display: flex;align-items: stretch;justify-content: center;background-color: white;}div.sk-parallel-item {display: flex;flex-direction: column;position: relative;background-color: white;}div.sk-parallel-item:first-child::after {align-self: flex-end;width: 50%;}div.sk-parallel-item:last-child::after {align-self: flex-start;width: 50%;}div.sk-parallel-item:only-child::after {width: 0;}div.sk-dashed-wrapped {border: 1px dashed gray;margin: 0.2em;box-sizing: border-box;padding-bottom: 0.1em;background-color: white;position: relative;}div.sk-label label {font-family: monospace;font-weight: bold;background-color: white;display: inline-block;line-height: 1.2em;}div.sk-label-container {position: relative;z-index: 2;text-align: center;}div.sk-container {display: inline-block;position: relative;}</style><div class=\"sk-top-container\"><div class=\"sk-container\"><div class=\"sk-item\"><div class=\"sk-estimator sk-toggleable\"><input class=\"sk-toggleable__control sk-hidden--visually\" id=\"7ecf0535-c9a1-45c5-b07b-fda8cb6afb65\" type=\"checkbox\" checked><label class=\"sk-toggleable__label\" for=\"7ecf0535-c9a1-45c5-b07b-fda8cb6afb65\">LogisticRegression</label><div class=\"sk-toggleable__content\"><pre>LogisticRegression(solver='liblinear')</pre></div></div></div></div></div>"
      ],
      "text/plain": [
       "LogisticRegression(solver='liblinear')"
      ]
     },
     "execution_count": 29,
     "metadata": {},
     "output_type": "execute_result"
    }
   ],
   "source": [
    "model_2"
   ]
  },
  {
   "cell_type": "code",
   "execution_count": 30,
   "id": "5361ed42",
   "metadata": {
    "execution": {
     "iopub.execute_input": "2021-12-27T23:40:14.080317Z",
     "iopub.status.busy": "2021-12-27T23:40:14.064973Z",
     "iopub.status.idle": "2021-12-27T23:40:14.090023Z",
     "shell.execute_reply": "2021-12-27T23:40:14.089485Z",
     "shell.execute_reply.started": "2021-12-27T20:53:34.574435Z"
    },
    "papermill": {
     "duration": 0.077681,
     "end_time": "2021-12-27T23:40:14.090132",
     "exception": false,
     "start_time": "2021-12-27T23:40:14.012451",
     "status": "completed"
    },
    "tags": []
   },
   "outputs": [
    {
     "data": {
      "text/html": [
       "<style>div.sk-top-container {color: black;background-color: white;}div.sk-toggleable {background-color: white;}label.sk-toggleable__label {cursor: pointer;display: block;width: 100%;margin-bottom: 0;padding: 0.2em 0.3em;box-sizing: border-box;text-align: center;}div.sk-toggleable__content {max-height: 0;max-width: 0;overflow: hidden;text-align: left;background-color: #f0f8ff;}div.sk-toggleable__content pre {margin: 0.2em;color: black;border-radius: 0.25em;background-color: #f0f8ff;}input.sk-toggleable__control:checked~div.sk-toggleable__content {max-height: 200px;max-width: 100%;overflow: auto;}div.sk-estimator input.sk-toggleable__control:checked~label.sk-toggleable__label {background-color: #d4ebff;}div.sk-label input.sk-toggleable__control:checked~label.sk-toggleable__label {background-color: #d4ebff;}input.sk-hidden--visually {border: 0;clip: rect(1px 1px 1px 1px);clip: rect(1px, 1px, 1px, 1px);height: 1px;margin: -1px;overflow: hidden;padding: 0;position: absolute;width: 1px;}div.sk-estimator {font-family: monospace;background-color: #f0f8ff;margin: 0.25em 0.25em;border: 1px dotted black;border-radius: 0.25em;box-sizing: border-box;}div.sk-estimator:hover {background-color: #d4ebff;}div.sk-parallel-item::after {content: \"\";width: 100%;border-bottom: 1px solid gray;flex-grow: 1;}div.sk-label:hover label.sk-toggleable__label {background-color: #d4ebff;}div.sk-serial::before {content: \"\";position: absolute;border-left: 1px solid gray;box-sizing: border-box;top: 2em;bottom: 0;left: 50%;}div.sk-serial {display: flex;flex-direction: column;align-items: center;background-color: white;}div.sk-item {z-index: 1;}div.sk-parallel {display: flex;align-items: stretch;justify-content: center;background-color: white;}div.sk-parallel-item {display: flex;flex-direction: column;position: relative;background-color: white;}div.sk-parallel-item:first-child::after {align-self: flex-end;width: 50%;}div.sk-parallel-item:last-child::after {align-self: flex-start;width: 50%;}div.sk-parallel-item:only-child::after {width: 0;}div.sk-dashed-wrapped {border: 1px dashed gray;margin: 0.2em;box-sizing: border-box;padding-bottom: 0.1em;background-color: white;position: relative;}div.sk-label label {font-family: monospace;font-weight: bold;background-color: white;display: inline-block;line-height: 1.2em;}div.sk-label-container {position: relative;z-index: 2;text-align: center;}div.sk-container {display: inline-block;position: relative;}</style><div class=\"sk-top-container\"><div class=\"sk-container\"><div class=\"sk-item sk-dashed-wrapped\"><div class=\"sk-label-container\"><div class=\"sk-label sk-toggleable\"><input class=\"sk-toggleable__control sk-hidden--visually\" id=\"919672b5-52d7-4849-9d12-b087e84e521e\" type=\"checkbox\" ><label class=\"sk-toggleable__label\" for=\"919672b5-52d7-4849-9d12-b087e84e521e\">Pipeline</label><div class=\"sk-toggleable__content\"><pre>Pipeline(steps=[('columntransformer',\n",
       "                 ColumnTransformer(remainder='passthrough',\n",
       "                                   transformers=[('standardscaler',\n",
       "                                                  StandardScaler(),\n",
       "                                                  [0, 1, 3, 4]),\n",
       "                                                 ('kbinsdiscretizer',\n",
       "                                                  KBinsDiscretizer(), [5]),\n",
       "                                                 ('binarizer',\n",
       "                                                  Binarizer(threshold=50),\n",
       "                                                  [2])])),\n",
       "                ('logisticregression', LogisticRegression(solver='liblinear'))])</pre></div></div></div><div class=\"sk-serial\"><div class=\"sk-item sk-dashed-wrapped\"><div class=\"sk-label-container\"><div class=\"sk-label sk-toggleable\"><input class=\"sk-toggleable__control sk-hidden--visually\" id=\"cca47f5c-1f09-444d-bd72-9b2a919822aa\" type=\"checkbox\" ><label class=\"sk-toggleable__label\" for=\"cca47f5c-1f09-444d-bd72-9b2a919822aa\">columntransformer: ColumnTransformer</label><div class=\"sk-toggleable__content\"><pre>ColumnTransformer(remainder='passthrough',\n",
       "                  transformers=[('standardscaler', StandardScaler(),\n",
       "                                 [0, 1, 3, 4]),\n",
       "                                ('kbinsdiscretizer', KBinsDiscretizer(), [5]),\n",
       "                                ('binarizer', Binarizer(threshold=50), [2])])</pre></div></div></div><div class=\"sk-parallel\"><div class=\"sk-parallel-item\"><div class=\"sk-item\"><div class=\"sk-label-container\"><div class=\"sk-label sk-toggleable\"><input class=\"sk-toggleable__control sk-hidden--visually\" id=\"0a63eda3-9cf8-49e8-9b88-aa0f1dc59aa8\" type=\"checkbox\" ><label class=\"sk-toggleable__label\" for=\"0a63eda3-9cf8-49e8-9b88-aa0f1dc59aa8\">standardscaler</label><div class=\"sk-toggleable__content\"><pre>[0, 1, 3, 4]</pre></div></div></div><div class=\"sk-serial\"><div class=\"sk-item\"><div class=\"sk-estimator sk-toggleable\"><input class=\"sk-toggleable__control sk-hidden--visually\" id=\"63a78c00-58ef-4e56-b8cb-684caf577ee6\" type=\"checkbox\" ><label class=\"sk-toggleable__label\" for=\"63a78c00-58ef-4e56-b8cb-684caf577ee6\">StandardScaler</label><div class=\"sk-toggleable__content\"><pre>StandardScaler()</pre></div></div></div></div></div></div><div class=\"sk-parallel-item\"><div class=\"sk-item\"><div class=\"sk-label-container\"><div class=\"sk-label sk-toggleable\"><input class=\"sk-toggleable__control sk-hidden--visually\" id=\"a1ef550d-2cc4-47f2-8405-9dab75989deb\" type=\"checkbox\" ><label class=\"sk-toggleable__label\" for=\"a1ef550d-2cc4-47f2-8405-9dab75989deb\">kbinsdiscretizer</label><div class=\"sk-toggleable__content\"><pre>[5]</pre></div></div></div><div class=\"sk-serial\"><div class=\"sk-item\"><div class=\"sk-estimator sk-toggleable\"><input class=\"sk-toggleable__control sk-hidden--visually\" id=\"7d349ad2-9035-4cbb-ac31-f2479adcbe2a\" type=\"checkbox\" ><label class=\"sk-toggleable__label\" for=\"7d349ad2-9035-4cbb-ac31-f2479adcbe2a\">KBinsDiscretizer</label><div class=\"sk-toggleable__content\"><pre>KBinsDiscretizer()</pre></div></div></div></div></div></div><div class=\"sk-parallel-item\"><div class=\"sk-item\"><div class=\"sk-label-container\"><div class=\"sk-label sk-toggleable\"><input class=\"sk-toggleable__control sk-hidden--visually\" id=\"b329a65e-e035-4cab-b5cb-8e427a2590ed\" type=\"checkbox\" ><label class=\"sk-toggleable__label\" for=\"b329a65e-e035-4cab-b5cb-8e427a2590ed\">binarizer</label><div class=\"sk-toggleable__content\"><pre>[2]</pre></div></div></div><div class=\"sk-serial\"><div class=\"sk-item\"><div class=\"sk-estimator sk-toggleable\"><input class=\"sk-toggleable__control sk-hidden--visually\" id=\"c4afaf7c-4ef2-40d1-90eb-8eab3cca49c5\" type=\"checkbox\" ><label class=\"sk-toggleable__label\" for=\"c4afaf7c-4ef2-40d1-90eb-8eab3cca49c5\">Binarizer</label><div class=\"sk-toggleable__content\"><pre>Binarizer(threshold=50)</pre></div></div></div></div></div></div></div></div><div class=\"sk-item\"><div class=\"sk-estimator sk-toggleable\"><input class=\"sk-toggleable__control sk-hidden--visually\" id=\"395de9b3-7575-4345-b91a-3aaec4bf92cb\" type=\"checkbox\" ><label class=\"sk-toggleable__label\" for=\"395de9b3-7575-4345-b91a-3aaec4bf92cb\">LogisticRegression</label><div class=\"sk-toggleable__content\"><pre>LogisticRegression(solver='liblinear')</pre></div></div></div></div></div></div></div>"
      ],
      "text/plain": [
       "Pipeline(steps=[('columntransformer',\n",
       "                 ColumnTransformer(remainder='passthrough',\n",
       "                                   transformers=[('standardscaler',\n",
       "                                                  StandardScaler(),\n",
       "                                                  [0, 1, 3, 4]),\n",
       "                                                 ('kbinsdiscretizer',\n",
       "                                                  KBinsDiscretizer(), [5]),\n",
       "                                                 ('binarizer',\n",
       "                                                  Binarizer(threshold=50),\n",
       "                                                  [2])])),\n",
       "                ('logisticregression', LogisticRegression(solver='liblinear'))])"
      ]
     },
     "execution_count": 30,
     "metadata": {},
     "output_type": "execute_result"
    }
   ],
   "source": [
    "pipe_2"
   ]
  },
  {
   "cell_type": "code",
   "execution_count": 31,
   "id": "7b38081c",
   "metadata": {
    "execution": {
     "iopub.execute_input": "2021-12-27T23:40:14.176623Z",
     "iopub.status.busy": "2021-12-27T23:40:14.175887Z",
     "iopub.status.idle": "2021-12-27T23:40:14.220486Z",
     "shell.execute_reply": "2021-12-27T23:40:14.220911Z",
     "shell.execute_reply.started": "2021-12-27T20:53:38.513879Z"
    },
    "papermill": {
     "duration": 0.089598,
     "end_time": "2021-12-27T23:40:14.221034",
     "exception": false,
     "start_time": "2021-12-27T23:40:14.131436",
     "status": "completed"
    },
    "tags": []
   },
   "outputs": [
    {
     "data": {
      "text/html": [
       "<style>div.sk-top-container {color: black;background-color: white;}div.sk-toggleable {background-color: white;}label.sk-toggleable__label {cursor: pointer;display: block;width: 100%;margin-bottom: 0;padding: 0.2em 0.3em;box-sizing: border-box;text-align: center;}div.sk-toggleable__content {max-height: 0;max-width: 0;overflow: hidden;text-align: left;background-color: #f0f8ff;}div.sk-toggleable__content pre {margin: 0.2em;color: black;border-radius: 0.25em;background-color: #f0f8ff;}input.sk-toggleable__control:checked~div.sk-toggleable__content {max-height: 200px;max-width: 100%;overflow: auto;}div.sk-estimator input.sk-toggleable__control:checked~label.sk-toggleable__label {background-color: #d4ebff;}div.sk-label input.sk-toggleable__control:checked~label.sk-toggleable__label {background-color: #d4ebff;}input.sk-hidden--visually {border: 0;clip: rect(1px 1px 1px 1px);clip: rect(1px, 1px, 1px, 1px);height: 1px;margin: -1px;overflow: hidden;padding: 0;position: absolute;width: 1px;}div.sk-estimator {font-family: monospace;background-color: #f0f8ff;margin: 0.25em 0.25em;border: 1px dotted black;border-radius: 0.25em;box-sizing: border-box;}div.sk-estimator:hover {background-color: #d4ebff;}div.sk-parallel-item::after {content: \"\";width: 100%;border-bottom: 1px solid gray;flex-grow: 1;}div.sk-label:hover label.sk-toggleable__label {background-color: #d4ebff;}div.sk-serial::before {content: \"\";position: absolute;border-left: 1px solid gray;box-sizing: border-box;top: 2em;bottom: 0;left: 50%;}div.sk-serial {display: flex;flex-direction: column;align-items: center;background-color: white;}div.sk-item {z-index: 1;}div.sk-parallel {display: flex;align-items: stretch;justify-content: center;background-color: white;}div.sk-parallel-item {display: flex;flex-direction: column;position: relative;background-color: white;}div.sk-parallel-item:first-child::after {align-self: flex-end;width: 50%;}div.sk-parallel-item:last-child::after {align-self: flex-start;width: 50%;}div.sk-parallel-item:only-child::after {width: 0;}div.sk-dashed-wrapped {border: 1px dashed gray;margin: 0.2em;box-sizing: border-box;padding-bottom: 0.1em;background-color: white;position: relative;}div.sk-label label {font-family: monospace;font-weight: bold;background-color: white;display: inline-block;line-height: 1.2em;}div.sk-label-container {position: relative;z-index: 2;text-align: center;}div.sk-container {display: inline-block;position: relative;}</style><div class=\"sk-top-container\"><div class=\"sk-container\"><div class=\"sk-item sk-dashed-wrapped\"><div class=\"sk-label-container\"><div class=\"sk-label sk-toggleable\"><input class=\"sk-toggleable__control sk-hidden--visually\" id=\"72e36d2b-d63d-46a7-8ead-e9a699afedf6\" type=\"checkbox\" ><label class=\"sk-toggleable__label\" for=\"72e36d2b-d63d-46a7-8ead-e9a699afedf6\">Pipeline</label><div class=\"sk-toggleable__content\"><pre>Pipeline(steps=[('columntransformer',\n",
       "                 ColumnTransformer(remainder='passthrough',\n",
       "                                   transformers=[('standardscaler',\n",
       "                                                  StandardScaler(),\n",
       "                                                  [0, 1, 3, 4]),\n",
       "                                                 ('kbinsdiscretizer',\n",
       "                                                  KBinsDiscretizer(), [5]),\n",
       "                                                 ('binarizer',\n",
       "                                                  Binarizer(threshold=50),\n",
       "                                                  [2])])),\n",
       "                ('logisticregression', LogisticRegression(solver='liblinear'))])</pre></div></div></div><div class=\"sk-serial\"><div class=\"sk-item sk-dashed-wrapped\"><div class=\"sk-label-container\"><div class=\"sk-label sk-toggleable\"><input class=\"sk-toggleable__control sk-hidden--visually\" id=\"5365b442-c533-4cc4-80ef-761c7830dc17\" type=\"checkbox\" ><label class=\"sk-toggleable__label\" for=\"5365b442-c533-4cc4-80ef-761c7830dc17\">columntransformer: ColumnTransformer</label><div class=\"sk-toggleable__content\"><pre>ColumnTransformer(remainder='passthrough',\n",
       "                  transformers=[('standardscaler', StandardScaler(),\n",
       "                                 [0, 1, 3, 4]),\n",
       "                                ('kbinsdiscretizer', KBinsDiscretizer(), [5]),\n",
       "                                ('binarizer', Binarizer(threshold=50), [2])])</pre></div></div></div><div class=\"sk-parallel\"><div class=\"sk-parallel-item\"><div class=\"sk-item\"><div class=\"sk-label-container\"><div class=\"sk-label sk-toggleable\"><input class=\"sk-toggleable__control sk-hidden--visually\" id=\"07628667-2d37-4930-a109-878143f2d315\" type=\"checkbox\" ><label class=\"sk-toggleable__label\" for=\"07628667-2d37-4930-a109-878143f2d315\">standardscaler</label><div class=\"sk-toggleable__content\"><pre>[0, 1, 3, 4]</pre></div></div></div><div class=\"sk-serial\"><div class=\"sk-item\"><div class=\"sk-estimator sk-toggleable\"><input class=\"sk-toggleable__control sk-hidden--visually\" id=\"c8af816e-a584-49c6-a33d-d6866dad2088\" type=\"checkbox\" ><label class=\"sk-toggleable__label\" for=\"c8af816e-a584-49c6-a33d-d6866dad2088\">StandardScaler</label><div class=\"sk-toggleable__content\"><pre>StandardScaler()</pre></div></div></div></div></div></div><div class=\"sk-parallel-item\"><div class=\"sk-item\"><div class=\"sk-label-container\"><div class=\"sk-label sk-toggleable\"><input class=\"sk-toggleable__control sk-hidden--visually\" id=\"aa3ef8ca-c773-4d5f-8f29-522bc5b0ad2b\" type=\"checkbox\" ><label class=\"sk-toggleable__label\" for=\"aa3ef8ca-c773-4d5f-8f29-522bc5b0ad2b\">kbinsdiscretizer</label><div class=\"sk-toggleable__content\"><pre>[5]</pre></div></div></div><div class=\"sk-serial\"><div class=\"sk-item\"><div class=\"sk-estimator sk-toggleable\"><input class=\"sk-toggleable__control sk-hidden--visually\" id=\"a86c6558-1a72-4a5b-aad7-22a2edc00fc1\" type=\"checkbox\" ><label class=\"sk-toggleable__label\" for=\"a86c6558-1a72-4a5b-aad7-22a2edc00fc1\">KBinsDiscretizer</label><div class=\"sk-toggleable__content\"><pre>KBinsDiscretizer()</pre></div></div></div></div></div></div><div class=\"sk-parallel-item\"><div class=\"sk-item\"><div class=\"sk-label-container\"><div class=\"sk-label sk-toggleable\"><input class=\"sk-toggleable__control sk-hidden--visually\" id=\"22f1c55a-82c3-4f53-9edc-7e8d17f4ad12\" type=\"checkbox\" ><label class=\"sk-toggleable__label\" for=\"22f1c55a-82c3-4f53-9edc-7e8d17f4ad12\">binarizer</label><div class=\"sk-toggleable__content\"><pre>[2]</pre></div></div></div><div class=\"sk-serial\"><div class=\"sk-item\"><div class=\"sk-estimator sk-toggleable\"><input class=\"sk-toggleable__control sk-hidden--visually\" id=\"3373684e-7de0-4221-b960-044a4788e428\" type=\"checkbox\" ><label class=\"sk-toggleable__label\" for=\"3373684e-7de0-4221-b960-044a4788e428\">Binarizer</label><div class=\"sk-toggleable__content\"><pre>Binarizer(threshold=50)</pre></div></div></div></div></div></div></div></div><div class=\"sk-item\"><div class=\"sk-estimator sk-toggleable\"><input class=\"sk-toggleable__control sk-hidden--visually\" id=\"157bf5d4-6dc2-4384-8168-359c08749a19\" type=\"checkbox\" ><label class=\"sk-toggleable__label\" for=\"157bf5d4-6dc2-4384-8168-359c08749a19\">LogisticRegression</label><div class=\"sk-toggleable__content\"><pre>LogisticRegression(solver='liblinear')</pre></div></div></div></div></div></div></div>"
      ],
      "text/plain": [
       "Pipeline(steps=[('columntransformer',\n",
       "                 ColumnTransformer(remainder='passthrough',\n",
       "                                   transformers=[('standardscaler',\n",
       "                                                  StandardScaler(),\n",
       "                                                  [0, 1, 3, 4]),\n",
       "                                                 ('kbinsdiscretizer',\n",
       "                                                  KBinsDiscretizer(), [5]),\n",
       "                                                 ('binarizer',\n",
       "                                                  Binarizer(threshold=50),\n",
       "                                                  [2])])),\n",
       "                ('logisticregression', LogisticRegression(solver='liblinear'))])"
      ]
     },
     "execution_count": 31,
     "metadata": {},
     "output_type": "execute_result"
    }
   ],
   "source": [
    "pipe_2.fit(x_train,y_train)"
   ]
  },
  {
   "cell_type": "code",
   "execution_count": 32,
   "id": "1ba045c4",
   "metadata": {
    "execution": {
     "iopub.execute_input": "2021-12-27T23:40:14.316438Z",
     "iopub.status.busy": "2021-12-27T23:40:14.313402Z",
     "iopub.status.idle": "2021-12-27T23:40:14.320593Z",
     "shell.execute_reply": "2021-12-27T23:40:14.319673Z",
     "shell.execute_reply.started": "2021-12-27T20:53:52.952315Z"
    },
    "papermill": {
     "duration": 0.056394,
     "end_time": "2021-12-27T23:40:14.320700",
     "exception": false,
     "start_time": "2021-12-27T23:40:14.264306",
     "status": "completed"
    },
    "tags": []
   },
   "outputs": [],
   "source": [
    "pred_2 = pipe_2.predict(x_test)\n"
   ]
  },
  {
   "cell_type": "code",
   "execution_count": 33,
   "id": "0ac1faf5",
   "metadata": {
    "execution": {
     "iopub.execute_input": "2021-12-27T23:40:14.414038Z",
     "iopub.status.busy": "2021-12-27T23:40:14.413285Z",
     "iopub.status.idle": "2021-12-27T23:40:14.416426Z",
     "shell.execute_reply": "2021-12-27T23:40:14.415931Z",
     "shell.execute_reply.started": "2021-12-27T20:53:57.550698Z"
    },
    "papermill": {
     "duration": 0.052443,
     "end_time": "2021-12-27T23:40:14.416529",
     "exception": false,
     "start_time": "2021-12-27T23:40:14.364086",
     "status": "completed"
    },
    "tags": []
   },
   "outputs": [
    {
     "data": {
      "text/plain": [
       "82.83828382838284"
      ]
     },
     "execution_count": 33,
     "metadata": {},
     "output_type": "execute_result"
    }
   ],
   "source": [
    "from sklearn.metrics import accuracy_score\n",
    "accuracy_score(pred_2,y_test)*100"
   ]
  },
  {
   "cell_type": "code",
   "execution_count": 34,
   "id": "a53d0825",
   "metadata": {
    "execution": {
     "iopub.execute_input": "2021-12-27T23:40:14.503342Z",
     "iopub.status.busy": "2021-12-27T23:40:14.502827Z",
     "iopub.status.idle": "2021-12-27T23:40:14.528438Z",
     "shell.execute_reply": "2021-12-27T23:40:14.527525Z",
     "shell.execute_reply.started": "2021-12-27T20:54:01.610794Z"
    },
    "papermill": {
     "duration": 0.070175,
     "end_time": "2021-12-27T23:40:14.528543",
     "exception": false,
     "start_time": "2021-12-27T23:40:14.458368",
     "status": "completed"
    },
    "tags": []
   },
   "outputs": [
    {
     "data": {
      "text/html": [
       "<div>\n",
       "<style scoped>\n",
       "    .dataframe tbody tr th:only-of-type {\n",
       "        vertical-align: middle;\n",
       "    }\n",
       "\n",
       "    .dataframe tbody tr th {\n",
       "        vertical-align: top;\n",
       "    }\n",
       "\n",
       "    .dataframe thead th {\n",
       "        text-align: right;\n",
       "    }\n",
       "</style>\n",
       "<table border=\"1\" class=\"dataframe\">\n",
       "  <thead>\n",
       "    <tr style=\"text-align: right;\">\n",
       "      <th></th>\n",
       "      <th>PassengerId</th>\n",
       "      <th>Pclass</th>\n",
       "      <th>Name</th>\n",
       "      <th>Sex</th>\n",
       "      <th>Age</th>\n",
       "      <th>SibSp</th>\n",
       "      <th>Parch</th>\n",
       "      <th>Ticket</th>\n",
       "      <th>Fare</th>\n",
       "      <th>Cabin</th>\n",
       "      <th>Embarked</th>\n",
       "    </tr>\n",
       "  </thead>\n",
       "  <tbody>\n",
       "    <tr>\n",
       "      <th>0</th>\n",
       "      <td>892</td>\n",
       "      <td>3</td>\n",
       "      <td>Kelly, Mr. James</td>\n",
       "      <td>male</td>\n",
       "      <td>34.5</td>\n",
       "      <td>0</td>\n",
       "      <td>0</td>\n",
       "      <td>330911</td>\n",
       "      <td>7.8292</td>\n",
       "      <td>NaN</td>\n",
       "      <td>Q</td>\n",
       "    </tr>\n",
       "    <tr>\n",
       "      <th>1</th>\n",
       "      <td>893</td>\n",
       "      <td>3</td>\n",
       "      <td>Wilkes, Mrs. James (Ellen Needs)</td>\n",
       "      <td>female</td>\n",
       "      <td>47.0</td>\n",
       "      <td>1</td>\n",
       "      <td>0</td>\n",
       "      <td>363272</td>\n",
       "      <td>7.0000</td>\n",
       "      <td>NaN</td>\n",
       "      <td>S</td>\n",
       "    </tr>\n",
       "    <tr>\n",
       "      <th>2</th>\n",
       "      <td>894</td>\n",
       "      <td>2</td>\n",
       "      <td>Myles, Mr. Thomas Francis</td>\n",
       "      <td>male</td>\n",
       "      <td>62.0</td>\n",
       "      <td>0</td>\n",
       "      <td>0</td>\n",
       "      <td>240276</td>\n",
       "      <td>9.6875</td>\n",
       "      <td>NaN</td>\n",
       "      <td>Q</td>\n",
       "    </tr>\n",
       "    <tr>\n",
       "      <th>3</th>\n",
       "      <td>895</td>\n",
       "      <td>3</td>\n",
       "      <td>Wirz, Mr. Albert</td>\n",
       "      <td>male</td>\n",
       "      <td>27.0</td>\n",
       "      <td>0</td>\n",
       "      <td>0</td>\n",
       "      <td>315154</td>\n",
       "      <td>8.6625</td>\n",
       "      <td>NaN</td>\n",
       "      <td>S</td>\n",
       "    </tr>\n",
       "    <tr>\n",
       "      <th>4</th>\n",
       "      <td>896</td>\n",
       "      <td>3</td>\n",
       "      <td>Hirvonen, Mrs. Alexander (Helga E Lindqvist)</td>\n",
       "      <td>female</td>\n",
       "      <td>22.0</td>\n",
       "      <td>1</td>\n",
       "      <td>1</td>\n",
       "      <td>3101298</td>\n",
       "      <td>12.2875</td>\n",
       "      <td>NaN</td>\n",
       "      <td>S</td>\n",
       "    </tr>\n",
       "    <tr>\n",
       "      <th>...</th>\n",
       "      <td>...</td>\n",
       "      <td>...</td>\n",
       "      <td>...</td>\n",
       "      <td>...</td>\n",
       "      <td>...</td>\n",
       "      <td>...</td>\n",
       "      <td>...</td>\n",
       "      <td>...</td>\n",
       "      <td>...</td>\n",
       "      <td>...</td>\n",
       "      <td>...</td>\n",
       "    </tr>\n",
       "    <tr>\n",
       "      <th>413</th>\n",
       "      <td>1305</td>\n",
       "      <td>3</td>\n",
       "      <td>Spector, Mr. Woolf</td>\n",
       "      <td>male</td>\n",
       "      <td>NaN</td>\n",
       "      <td>0</td>\n",
       "      <td>0</td>\n",
       "      <td>A.5. 3236</td>\n",
       "      <td>8.0500</td>\n",
       "      <td>NaN</td>\n",
       "      <td>S</td>\n",
       "    </tr>\n",
       "    <tr>\n",
       "      <th>414</th>\n",
       "      <td>1306</td>\n",
       "      <td>1</td>\n",
       "      <td>Oliva y Ocana, Dona. Fermina</td>\n",
       "      <td>female</td>\n",
       "      <td>39.0</td>\n",
       "      <td>0</td>\n",
       "      <td>0</td>\n",
       "      <td>PC 17758</td>\n",
       "      <td>108.9000</td>\n",
       "      <td>C105</td>\n",
       "      <td>C</td>\n",
       "    </tr>\n",
       "    <tr>\n",
       "      <th>415</th>\n",
       "      <td>1307</td>\n",
       "      <td>3</td>\n",
       "      <td>Saether, Mr. Simon Sivertsen</td>\n",
       "      <td>male</td>\n",
       "      <td>38.5</td>\n",
       "      <td>0</td>\n",
       "      <td>0</td>\n",
       "      <td>SOTON/O.Q. 3101262</td>\n",
       "      <td>7.2500</td>\n",
       "      <td>NaN</td>\n",
       "      <td>S</td>\n",
       "    </tr>\n",
       "    <tr>\n",
       "      <th>416</th>\n",
       "      <td>1308</td>\n",
       "      <td>3</td>\n",
       "      <td>Ware, Mr. Frederick</td>\n",
       "      <td>male</td>\n",
       "      <td>NaN</td>\n",
       "      <td>0</td>\n",
       "      <td>0</td>\n",
       "      <td>359309</td>\n",
       "      <td>8.0500</td>\n",
       "      <td>NaN</td>\n",
       "      <td>S</td>\n",
       "    </tr>\n",
       "    <tr>\n",
       "      <th>417</th>\n",
       "      <td>1309</td>\n",
       "      <td>3</td>\n",
       "      <td>Peter, Master. Michael J</td>\n",
       "      <td>male</td>\n",
       "      <td>NaN</td>\n",
       "      <td>1</td>\n",
       "      <td>1</td>\n",
       "      <td>2668</td>\n",
       "      <td>22.3583</td>\n",
       "      <td>NaN</td>\n",
       "      <td>C</td>\n",
       "    </tr>\n",
       "  </tbody>\n",
       "</table>\n",
       "<p>418 rows × 11 columns</p>\n",
       "</div>"
      ],
      "text/plain": [
       "     PassengerId  Pclass                                          Name  \\\n",
       "0            892       3                              Kelly, Mr. James   \n",
       "1            893       3              Wilkes, Mrs. James (Ellen Needs)   \n",
       "2            894       2                     Myles, Mr. Thomas Francis   \n",
       "3            895       3                              Wirz, Mr. Albert   \n",
       "4            896       3  Hirvonen, Mrs. Alexander (Helga E Lindqvist)   \n",
       "..           ...     ...                                           ...   \n",
       "413         1305       3                            Spector, Mr. Woolf   \n",
       "414         1306       1                  Oliva y Ocana, Dona. Fermina   \n",
       "415         1307       3                  Saether, Mr. Simon Sivertsen   \n",
       "416         1308       3                           Ware, Mr. Frederick   \n",
       "417         1309       3                      Peter, Master. Michael J   \n",
       "\n",
       "        Sex   Age  SibSp  Parch              Ticket      Fare Cabin Embarked  \n",
       "0      male  34.5      0      0              330911    7.8292   NaN        Q  \n",
       "1    female  47.0      1      0              363272    7.0000   NaN        S  \n",
       "2      male  62.0      0      0              240276    9.6875   NaN        Q  \n",
       "3      male  27.0      0      0              315154    8.6625   NaN        S  \n",
       "4    female  22.0      1      1             3101298   12.2875   NaN        S  \n",
       "..      ...   ...    ...    ...                 ...       ...   ...      ...  \n",
       "413    male   NaN      0      0           A.5. 3236    8.0500   NaN        S  \n",
       "414  female  39.0      0      0            PC 17758  108.9000  C105        C  \n",
       "415    male  38.5      0      0  SOTON/O.Q. 3101262    7.2500   NaN        S  \n",
       "416    male   NaN      0      0              359309    8.0500   NaN        S  \n",
       "417    male   NaN      1      1                2668   22.3583   NaN        C  \n",
       "\n",
       "[418 rows x 11 columns]"
      ]
     },
     "execution_count": 34,
     "metadata": {},
     "output_type": "execute_result"
    }
   ],
   "source": [
    "test_data = pd.read_csv('/kaggle/input/titanic/test.csv')\n",
    "test_data"
   ]
  },
  {
   "cell_type": "code",
   "execution_count": 35,
   "id": "67c8e456",
   "metadata": {
    "execution": {
     "iopub.execute_input": "2021-12-27T23:40:14.619232Z",
     "iopub.status.busy": "2021-12-27T23:40:14.618441Z",
     "iopub.status.idle": "2021-12-27T23:40:14.620638Z",
     "shell.execute_reply": "2021-12-27T23:40:14.620141Z",
     "shell.execute_reply.started": "2021-12-27T20:54:48.022482Z"
    },
    "papermill": {
     "duration": 0.048758,
     "end_time": "2021-12-27T23:40:14.620739",
     "exception": false,
     "start_time": "2021-12-27T23:40:14.571981",
     "status": "completed"
    },
    "tags": []
   },
   "outputs": [],
   "source": [
    "test_data = test_data.drop(columns = ['PassengerId','Name','Ticket','Cabin', 'Embarked'])\n"
   ]
  },
  {
   "cell_type": "code",
   "execution_count": 36,
   "id": "3337a47a",
   "metadata": {
    "execution": {
     "iopub.execute_input": "2021-12-27T23:40:14.711646Z",
     "iopub.status.busy": "2021-12-27T23:40:14.709615Z",
     "iopub.status.idle": "2021-12-27T23:40:14.714360Z",
     "shell.execute_reply": "2021-12-27T23:40:14.714727Z",
     "shell.execute_reply.started": "2021-12-27T20:54:51.385275Z"
    },
    "papermill": {
     "duration": 0.051441,
     "end_time": "2021-12-27T23:40:14.714865",
     "exception": false,
     "start_time": "2021-12-27T23:40:14.663424",
     "status": "completed"
    },
    "tags": []
   },
   "outputs": [
    {
     "data": {
      "text/plain": [
       "Pclass     0\n",
       "Sex        0\n",
       "Age       86\n",
       "SibSp      0\n",
       "Parch      0\n",
       "Fare       1\n",
       "dtype: int64"
      ]
     },
     "execution_count": 36,
     "metadata": {},
     "output_type": "execute_result"
    }
   ],
   "source": [
    "test_data.isnull().sum()"
   ]
  },
  {
   "cell_type": "code",
   "execution_count": 37,
   "id": "4c718aa4",
   "metadata": {
    "execution": {
     "iopub.execute_input": "2021-12-27T23:40:14.807028Z",
     "iopub.status.busy": "2021-12-27T23:40:14.806391Z",
     "iopub.status.idle": "2021-12-27T23:40:14.808859Z",
     "shell.execute_reply": "2021-12-27T23:40:14.809315Z",
     "shell.execute_reply.started": "2021-12-27T20:54:54.128853Z"
    },
    "papermill": {
     "duration": 0.050888,
     "end_time": "2021-12-27T23:40:14.809430",
     "exception": false,
     "start_time": "2021-12-27T23:40:14.758542",
     "status": "completed"
    },
    "tags": []
   },
   "outputs": [
    {
     "data": {
      "text/plain": [
       "Pclass      int64\n",
       "Sex        object\n",
       "Age       float64\n",
       "SibSp       int64\n",
       "Parch       int64\n",
       "Fare      float64\n",
       "dtype: object"
      ]
     },
     "execution_count": 37,
     "metadata": {},
     "output_type": "execute_result"
    }
   ],
   "source": [
    "test_data.dtypes"
   ]
  },
  {
   "cell_type": "code",
   "execution_count": 38,
   "id": "a5b88b46",
   "metadata": {
    "execution": {
     "iopub.execute_input": "2021-12-27T23:40:14.901982Z",
     "iopub.status.busy": "2021-12-27T23:40:14.901241Z",
     "iopub.status.idle": "2021-12-27T23:40:14.903204Z",
     "shell.execute_reply": "2021-12-27T23:40:14.903611Z",
     "shell.execute_reply.started": "2021-12-27T20:54:58.329212Z"
    },
    "papermill": {
     "duration": 0.050456,
     "end_time": "2021-12-27T23:40:14.903724",
     "exception": false,
     "start_time": "2021-12-27T23:40:14.853268",
     "status": "completed"
    },
    "tags": []
   },
   "outputs": [],
   "source": [
    "test_data['Sex'] = test_data['Sex'].map({'female':1,'male':0}).astype(int)\n",
    "#test_data['Embarked_S'] = test_data['Embarked'].replace('Q',0).replace('C',0).replace('S',1)\n",
    "#test_data['Embarked_Q'] = test_data['Embarked'].replace('C',0).replace('S',0).replace('Q',1)\n",
    "#test_data['Embarked_C'] = test_data['Embarked'].replace('S',0).replace('Q',0).replace('C',1)"
   ]
  },
  {
   "cell_type": "code",
   "execution_count": 39,
   "id": "808547d8",
   "metadata": {
    "execution": {
     "iopub.execute_input": "2021-12-27T23:40:14.995773Z",
     "iopub.status.busy": "2021-12-27T23:40:14.994304Z",
     "iopub.status.idle": "2021-12-27T23:40:14.996374Z",
     "shell.execute_reply": "2021-12-27T23:40:14.996769Z",
     "shell.execute_reply.started": "2021-12-27T20:55:01.136972Z"
    },
    "papermill": {
     "duration": 0.05049,
     "end_time": "2021-12-27T23:40:14.996908",
     "exception": false,
     "start_time": "2021-12-27T23:40:14.946418",
     "status": "completed"
    },
    "tags": []
   },
   "outputs": [],
   "source": [
    "test_data.Age = test_data.Age.fillna(0)\n",
    "test_data.Fare = test_data.Fare.fillna(0)"
   ]
  },
  {
   "cell_type": "code",
   "execution_count": 40,
   "id": "625b5a68",
   "metadata": {
    "execution": {
     "iopub.execute_input": "2021-12-27T23:40:15.086061Z",
     "iopub.status.busy": "2021-12-27T23:40:15.085449Z",
     "iopub.status.idle": "2021-12-27T23:40:15.087670Z",
     "shell.execute_reply": "2021-12-27T23:40:15.088098Z"
    },
    "papermill": {
     "duration": 0.048398,
     "end_time": "2021-12-27T23:40:15.088217",
     "exception": false,
     "start_time": "2021-12-27T23:40:15.039819",
     "status": "completed"
    },
    "tags": []
   },
   "outputs": [],
   "source": [
    "#test_data.drop(columns = ['Embarked'],inplace = True)"
   ]
  },
  {
   "cell_type": "code",
   "execution_count": 41,
   "id": "b27de6ef",
   "metadata": {
    "execution": {
     "iopub.execute_input": "2021-12-27T23:40:15.177730Z",
     "iopub.status.busy": "2021-12-27T23:40:15.177255Z",
     "iopub.status.idle": "2021-12-27T23:40:15.190774Z",
     "shell.execute_reply": "2021-12-27T23:40:15.189938Z",
     "shell.execute_reply.started": "2021-12-27T20:55:05.349922Z"
    },
    "papermill": {
     "duration": 0.059717,
     "end_time": "2021-12-27T23:40:15.190941",
     "exception": false,
     "start_time": "2021-12-27T23:40:15.131224",
     "status": "completed"
    },
    "tags": []
   },
   "outputs": [
    {
     "data": {
      "text/html": [
       "<div>\n",
       "<style scoped>\n",
       "    .dataframe tbody tr th:only-of-type {\n",
       "        vertical-align: middle;\n",
       "    }\n",
       "\n",
       "    .dataframe tbody tr th {\n",
       "        vertical-align: top;\n",
       "    }\n",
       "\n",
       "    .dataframe thead th {\n",
       "        text-align: right;\n",
       "    }\n",
       "</style>\n",
       "<table border=\"1\" class=\"dataframe\">\n",
       "  <thead>\n",
       "    <tr style=\"text-align: right;\">\n",
       "      <th></th>\n",
       "      <th>Pclass</th>\n",
       "      <th>Sex</th>\n",
       "      <th>Age</th>\n",
       "      <th>SibSp</th>\n",
       "      <th>Parch</th>\n",
       "      <th>Fare</th>\n",
       "    </tr>\n",
       "  </thead>\n",
       "  <tbody>\n",
       "    <tr>\n",
       "      <th>0</th>\n",
       "      <td>3</td>\n",
       "      <td>0</td>\n",
       "      <td>34.5</td>\n",
       "      <td>0</td>\n",
       "      <td>0</td>\n",
       "      <td>7.8292</td>\n",
       "    </tr>\n",
       "    <tr>\n",
       "      <th>1</th>\n",
       "      <td>3</td>\n",
       "      <td>1</td>\n",
       "      <td>47.0</td>\n",
       "      <td>1</td>\n",
       "      <td>0</td>\n",
       "      <td>7.0000</td>\n",
       "    </tr>\n",
       "    <tr>\n",
       "      <th>2</th>\n",
       "      <td>2</td>\n",
       "      <td>0</td>\n",
       "      <td>62.0</td>\n",
       "      <td>0</td>\n",
       "      <td>0</td>\n",
       "      <td>9.6875</td>\n",
       "    </tr>\n",
       "    <tr>\n",
       "      <th>3</th>\n",
       "      <td>3</td>\n",
       "      <td>0</td>\n",
       "      <td>27.0</td>\n",
       "      <td>0</td>\n",
       "      <td>0</td>\n",
       "      <td>8.6625</td>\n",
       "    </tr>\n",
       "    <tr>\n",
       "      <th>4</th>\n",
       "      <td>3</td>\n",
       "      <td>1</td>\n",
       "      <td>22.0</td>\n",
       "      <td>1</td>\n",
       "      <td>1</td>\n",
       "      <td>12.2875</td>\n",
       "    </tr>\n",
       "    <tr>\n",
       "      <th>...</th>\n",
       "      <td>...</td>\n",
       "      <td>...</td>\n",
       "      <td>...</td>\n",
       "      <td>...</td>\n",
       "      <td>...</td>\n",
       "      <td>...</td>\n",
       "    </tr>\n",
       "    <tr>\n",
       "      <th>413</th>\n",
       "      <td>3</td>\n",
       "      <td>0</td>\n",
       "      <td>0.0</td>\n",
       "      <td>0</td>\n",
       "      <td>0</td>\n",
       "      <td>8.0500</td>\n",
       "    </tr>\n",
       "    <tr>\n",
       "      <th>414</th>\n",
       "      <td>1</td>\n",
       "      <td>1</td>\n",
       "      <td>39.0</td>\n",
       "      <td>0</td>\n",
       "      <td>0</td>\n",
       "      <td>108.9000</td>\n",
       "    </tr>\n",
       "    <tr>\n",
       "      <th>415</th>\n",
       "      <td>3</td>\n",
       "      <td>0</td>\n",
       "      <td>38.5</td>\n",
       "      <td>0</td>\n",
       "      <td>0</td>\n",
       "      <td>7.2500</td>\n",
       "    </tr>\n",
       "    <tr>\n",
       "      <th>416</th>\n",
       "      <td>3</td>\n",
       "      <td>0</td>\n",
       "      <td>0.0</td>\n",
       "      <td>0</td>\n",
       "      <td>0</td>\n",
       "      <td>8.0500</td>\n",
       "    </tr>\n",
       "    <tr>\n",
       "      <th>417</th>\n",
       "      <td>3</td>\n",
       "      <td>0</td>\n",
       "      <td>0.0</td>\n",
       "      <td>1</td>\n",
       "      <td>1</td>\n",
       "      <td>22.3583</td>\n",
       "    </tr>\n",
       "  </tbody>\n",
       "</table>\n",
       "<p>418 rows × 6 columns</p>\n",
       "</div>"
      ],
      "text/plain": [
       "     Pclass  Sex   Age  SibSp  Parch      Fare\n",
       "0         3    0  34.5      0      0    7.8292\n",
       "1         3    1  47.0      1      0    7.0000\n",
       "2         2    0  62.0      0      0    9.6875\n",
       "3         3    0  27.0      0      0    8.6625\n",
       "4         3    1  22.0      1      1   12.2875\n",
       "..      ...  ...   ...    ...    ...       ...\n",
       "413       3    0   0.0      0      0    8.0500\n",
       "414       1    1  39.0      0      0  108.9000\n",
       "415       3    0  38.5      0      0    7.2500\n",
       "416       3    0   0.0      0      0    8.0500\n",
       "417       3    0   0.0      1      1   22.3583\n",
       "\n",
       "[418 rows x 6 columns]"
      ]
     },
     "execution_count": 41,
     "metadata": {},
     "output_type": "execute_result"
    }
   ],
   "source": [
    "test_data"
   ]
  },
  {
   "cell_type": "code",
   "execution_count": 42,
   "id": "cfa6c5d0",
   "metadata": {
    "execution": {
     "iopub.execute_input": "2021-12-27T23:40:15.290197Z",
     "iopub.status.busy": "2021-12-27T23:40:15.289329Z",
     "iopub.status.idle": "2021-12-27T23:40:15.292264Z",
     "shell.execute_reply": "2021-12-27T23:40:15.292650Z",
     "shell.execute_reply.started": "2021-12-27T20:55:08.913493Z"
    },
    "papermill": {
     "duration": 0.053714,
     "end_time": "2021-12-27T23:40:15.292768",
     "exception": false,
     "start_time": "2021-12-27T23:40:15.239054",
     "status": "completed"
    },
    "tags": []
   },
   "outputs": [
    {
     "data": {
      "text/plain": [
       "Pclass    0\n",
       "Sex       0\n",
       "Age       0\n",
       "SibSp     0\n",
       "Parch     0\n",
       "Fare      0\n",
       "dtype: int64"
      ]
     },
     "execution_count": 42,
     "metadata": {},
     "output_type": "execute_result"
    }
   ],
   "source": [
    "test_data.isnull().sum()"
   ]
  },
  {
   "cell_type": "code",
   "execution_count": 43,
   "id": "516ebee9",
   "metadata": {
    "execution": {
     "iopub.execute_input": "2021-12-27T23:40:15.390644Z",
     "iopub.status.busy": "2021-12-27T23:40:15.390026Z",
     "iopub.status.idle": "2021-12-27T23:40:15.392693Z",
     "shell.execute_reply": "2021-12-27T23:40:15.393132Z",
     "shell.execute_reply.started": "2021-12-27T20:55:12.434105Z"
    },
    "papermill": {
     "duration": 0.056768,
     "end_time": "2021-12-27T23:40:15.393256",
     "exception": false,
     "start_time": "2021-12-27T23:40:15.336488",
     "status": "completed"
    },
    "tags": []
   },
   "outputs": [
    {
     "data": {
      "text/plain": [
       "Pclass      int64\n",
       "Sex         int64\n",
       "Age       float64\n",
       "SibSp       int64\n",
       "Parch       int64\n",
       "Fare      float64\n",
       "dtype: object"
      ]
     },
     "execution_count": 43,
     "metadata": {},
     "output_type": "execute_result"
    }
   ],
   "source": [
    "test_data.dtypes"
   ]
  },
  {
   "cell_type": "code",
   "execution_count": 44,
   "id": "eabb79ed",
   "metadata": {
    "execution": {
     "iopub.execute_input": "2021-12-27T23:40:15.486487Z",
     "iopub.status.busy": "2021-12-27T23:40:15.486005Z",
     "iopub.status.idle": "2021-12-27T23:40:15.497641Z",
     "shell.execute_reply": "2021-12-27T23:40:15.497230Z",
     "shell.execute_reply.started": "2021-12-27T20:55:16.654171Z"
    },
    "papermill": {
     "duration": 0.058863,
     "end_time": "2021-12-27T23:40:15.497738",
     "exception": false,
     "start_time": "2021-12-27T23:40:15.438875",
     "status": "completed"
    },
    "tags": []
   },
   "outputs": [],
   "source": [
    "submission_data = pd.read_csv('/kaggle/input/titanic/gender_submission.csv')\n"
   ]
  },
  {
   "cell_type": "code",
   "execution_count": 45,
   "id": "ef4428bd",
   "metadata": {
    "execution": {
     "iopub.execute_input": "2021-12-27T23:40:15.593410Z",
     "iopub.status.busy": "2021-12-27T23:40:15.592650Z",
     "iopub.status.idle": "2021-12-27T23:40:15.597770Z",
     "shell.execute_reply": "2021-12-27T23:40:15.597333Z",
     "shell.execute_reply.started": "2021-12-27T20:55:22.617120Z"
    },
    "papermill": {
     "duration": 0.055878,
     "end_time": "2021-12-27T23:40:15.597894",
     "exception": false,
     "start_time": "2021-12-27T23:40:15.542016",
     "status": "completed"
    },
    "tags": []
   },
   "outputs": [
    {
     "data": {
      "text/html": [
       "<div>\n",
       "<style scoped>\n",
       "    .dataframe tbody tr th:only-of-type {\n",
       "        vertical-align: middle;\n",
       "    }\n",
       "\n",
       "    .dataframe tbody tr th {\n",
       "        vertical-align: top;\n",
       "    }\n",
       "\n",
       "    .dataframe thead th {\n",
       "        text-align: right;\n",
       "    }\n",
       "</style>\n",
       "<table border=\"1\" class=\"dataframe\">\n",
       "  <thead>\n",
       "    <tr style=\"text-align: right;\">\n",
       "      <th></th>\n",
       "      <th>Survived</th>\n",
       "    </tr>\n",
       "  </thead>\n",
       "  <tbody>\n",
       "    <tr>\n",
       "      <th>0</th>\n",
       "      <td>0</td>\n",
       "    </tr>\n",
       "    <tr>\n",
       "      <th>1</th>\n",
       "      <td>1</td>\n",
       "    </tr>\n",
       "    <tr>\n",
       "      <th>2</th>\n",
       "      <td>0</td>\n",
       "    </tr>\n",
       "    <tr>\n",
       "      <th>3</th>\n",
       "      <td>0</td>\n",
       "    </tr>\n",
       "    <tr>\n",
       "      <th>4</th>\n",
       "      <td>1</td>\n",
       "    </tr>\n",
       "    <tr>\n",
       "      <th>...</th>\n",
       "      <td>...</td>\n",
       "    </tr>\n",
       "    <tr>\n",
       "      <th>413</th>\n",
       "      <td>0</td>\n",
       "    </tr>\n",
       "    <tr>\n",
       "      <th>414</th>\n",
       "      <td>1</td>\n",
       "    </tr>\n",
       "    <tr>\n",
       "      <th>415</th>\n",
       "      <td>0</td>\n",
       "    </tr>\n",
       "    <tr>\n",
       "      <th>416</th>\n",
       "      <td>0</td>\n",
       "    </tr>\n",
       "    <tr>\n",
       "      <th>417</th>\n",
       "      <td>0</td>\n",
       "    </tr>\n",
       "  </tbody>\n",
       "</table>\n",
       "<p>418 rows × 1 columns</p>\n",
       "</div>"
      ],
      "text/plain": [
       "     Survived\n",
       "0           0\n",
       "1           1\n",
       "2           0\n",
       "3           0\n",
       "4           1\n",
       "..        ...\n",
       "413         0\n",
       "414         1\n",
       "415         0\n",
       "416         0\n",
       "417         0\n",
       "\n",
       "[418 rows x 1 columns]"
      ]
     },
     "execution_count": 45,
     "metadata": {},
     "output_type": "execute_result"
    }
   ],
   "source": [
    "submission_data.drop(columns = ['PassengerId'],inplace = True)\n",
    "submission_data"
   ]
  },
  {
   "cell_type": "code",
   "execution_count": 46,
   "id": "7684b702",
   "metadata": {
    "execution": {
     "iopub.execute_input": "2021-12-27T23:40:15.691884Z",
     "iopub.status.busy": "2021-12-27T23:40:15.691131Z",
     "iopub.status.idle": "2021-12-27T23:40:15.697364Z",
     "shell.execute_reply": "2021-12-27T23:40:15.697797Z",
     "shell.execute_reply.started": "2021-12-27T20:55:26.635466Z"
    },
    "papermill": {
     "duration": 0.055818,
     "end_time": "2021-12-27T23:40:15.697937",
     "exception": false,
     "start_time": "2021-12-27T23:40:15.642119",
     "status": "completed"
    },
    "tags": []
   },
   "outputs": [
    {
     "data": {
      "text/html": [
       "<style>div.sk-top-container {color: black;background-color: white;}div.sk-toggleable {background-color: white;}label.sk-toggleable__label {cursor: pointer;display: block;width: 100%;margin-bottom: 0;padding: 0.2em 0.3em;box-sizing: border-box;text-align: center;}div.sk-toggleable__content {max-height: 0;max-width: 0;overflow: hidden;text-align: left;background-color: #f0f8ff;}div.sk-toggleable__content pre {margin: 0.2em;color: black;border-radius: 0.25em;background-color: #f0f8ff;}input.sk-toggleable__control:checked~div.sk-toggleable__content {max-height: 200px;max-width: 100%;overflow: auto;}div.sk-estimator input.sk-toggleable__control:checked~label.sk-toggleable__label {background-color: #d4ebff;}div.sk-label input.sk-toggleable__control:checked~label.sk-toggleable__label {background-color: #d4ebff;}input.sk-hidden--visually {border: 0;clip: rect(1px 1px 1px 1px);clip: rect(1px, 1px, 1px, 1px);height: 1px;margin: -1px;overflow: hidden;padding: 0;position: absolute;width: 1px;}div.sk-estimator {font-family: monospace;background-color: #f0f8ff;margin: 0.25em 0.25em;border: 1px dotted black;border-radius: 0.25em;box-sizing: border-box;}div.sk-estimator:hover {background-color: #d4ebff;}div.sk-parallel-item::after {content: \"\";width: 100%;border-bottom: 1px solid gray;flex-grow: 1;}div.sk-label:hover label.sk-toggleable__label {background-color: #d4ebff;}div.sk-serial::before {content: \"\";position: absolute;border-left: 1px solid gray;box-sizing: border-box;top: 2em;bottom: 0;left: 50%;}div.sk-serial {display: flex;flex-direction: column;align-items: center;background-color: white;}div.sk-item {z-index: 1;}div.sk-parallel {display: flex;align-items: stretch;justify-content: center;background-color: white;}div.sk-parallel-item {display: flex;flex-direction: column;position: relative;background-color: white;}div.sk-parallel-item:first-child::after {align-self: flex-end;width: 50%;}div.sk-parallel-item:last-child::after {align-self: flex-start;width: 50%;}div.sk-parallel-item:only-child::after {width: 0;}div.sk-dashed-wrapped {border: 1px dashed gray;margin: 0.2em;box-sizing: border-box;padding-bottom: 0.1em;background-color: white;position: relative;}div.sk-label label {font-family: monospace;font-weight: bold;background-color: white;display: inline-block;line-height: 1.2em;}div.sk-label-container {position: relative;z-index: 2;text-align: center;}div.sk-container {display: inline-block;position: relative;}</style><div class=\"sk-top-container\"><div class=\"sk-container\"><div class=\"sk-item\"><div class=\"sk-estimator sk-toggleable\"><input class=\"sk-toggleable__control sk-hidden--visually\" id=\"c21b77c7-bd6b-4342-9428-35e2304d59fa\" type=\"checkbox\" checked><label class=\"sk-toggleable__label\" for=\"c21b77c7-bd6b-4342-9428-35e2304d59fa\">LogisticRegression</label><div class=\"sk-toggleable__content\"><pre>LogisticRegression(solver='liblinear')</pre></div></div></div></div></div>"
      ],
      "text/plain": [
       "LogisticRegression(solver='liblinear')"
      ]
     },
     "execution_count": 46,
     "metadata": {},
     "output_type": "execute_result"
    }
   ],
   "source": [
    "#Here model_2 is LogesticRegression\n",
    "model_2.fit(x_train,y_train)"
   ]
  },
  {
   "cell_type": "code",
   "execution_count": 47,
   "id": "84d4932c",
   "metadata": {
    "execution": {
     "iopub.execute_input": "2021-12-27T23:40:15.793232Z",
     "iopub.status.busy": "2021-12-27T23:40:15.791642Z",
     "iopub.status.idle": "2021-12-27T23:40:15.797532Z",
     "shell.execute_reply": "2021-12-27T23:40:15.798161Z",
     "shell.execute_reply.started": "2021-12-27T20:55:29.296754Z"
    },
    "papermill": {
     "duration": 0.05536,
     "end_time": "2021-12-27T23:40:15.798297",
     "exception": false,
     "start_time": "2021-12-27T23:40:15.742937",
     "status": "completed"
    },
    "tags": []
   },
   "outputs": [
    {
     "data": {
      "text/plain": [
       "77.38095238095238"
      ]
     },
     "execution_count": 47,
     "metadata": {},
     "output_type": "execute_result"
    }
   ],
   "source": [
    "from sklearn.metrics import accuracy_score\n",
    "model_2.score(x_train,y_train)*100\n"
   ]
  },
  {
   "cell_type": "code",
   "execution_count": 48,
   "id": "60536574",
   "metadata": {
    "execution": {
     "iopub.execute_input": "2021-12-27T23:40:15.895447Z",
     "iopub.status.busy": "2021-12-27T23:40:15.894535Z",
     "iopub.status.idle": "2021-12-27T23:40:15.896893Z",
     "shell.execute_reply": "2021-12-27T23:40:15.897335Z",
     "shell.execute_reply.started": "2021-12-27T20:55:31.717332Z"
    },
    "papermill": {
     "duration": 0.053266,
     "end_time": "2021-12-27T23:40:15.897458",
     "exception": false,
     "start_time": "2021-12-27T23:40:15.844192",
     "status": "completed"
    },
    "tags": []
   },
   "outputs": [],
   "source": [
    "prediction_model_2 = model_2.predict(test_data)"
   ]
  },
  {
   "cell_type": "code",
   "execution_count": 49,
   "id": "c429ff79",
   "metadata": {
    "execution": {
     "iopub.execute_input": "2021-12-27T23:40:16.002292Z",
     "iopub.status.busy": "2021-12-27T23:40:15.995946Z",
     "iopub.status.idle": "2021-12-27T23:40:16.006020Z",
     "shell.execute_reply": "2021-12-27T23:40:16.006647Z",
     "shell.execute_reply.started": "2021-12-27T20:55:34.556389Z"
    },
    "papermill": {
     "duration": 0.062199,
     "end_time": "2021-12-27T23:40:16.006822",
     "exception": false,
     "start_time": "2021-12-27T23:40:15.944623",
     "status": "completed"
    },
    "tags": []
   },
   "outputs": [
    {
     "data": {
      "text/plain": [
       "94.97607655502392"
      ]
     },
     "execution_count": 49,
     "metadata": {},
     "output_type": "execute_result"
    }
   ],
   "source": [
    "accuracy_score(prediction_model_2,submission_data)*100"
   ]
  },
  {
   "cell_type": "code",
   "execution_count": 50,
   "id": "4bc30499",
   "metadata": {
    "execution": {
     "iopub.execute_input": "2021-12-27T23:40:16.172209Z",
     "iopub.status.busy": "2021-12-27T23:40:16.171298Z",
     "iopub.status.idle": "2021-12-27T23:40:16.176882Z",
     "shell.execute_reply": "2021-12-27T23:40:16.177503Z",
     "shell.execute_reply.started": "2021-12-27T20:55:41.800247Z"
    },
    "papermill": {
     "duration": 0.085932,
     "end_time": "2021-12-27T23:40:16.177679",
     "exception": false,
     "start_time": "2021-12-27T23:40:16.091747",
     "status": "completed"
    },
    "tags": []
   },
   "outputs": [
    {
     "name": "stdout",
     "output_type": "stream",
     "text": [
      "Train Accuracy: 77.38095%\n",
      "Test Accuracy: 94.97608%\n"
     ]
    }
   ],
   "source": [
    "print(\"Train Accuracy: {:.5f}%\".format(model_2.score(x_train,y_train)*100))\n",
    "print('Test Accuracy: {:.5f}%'.format(accuracy_score(prediction_model_2,submission_data)*100))\n"
   ]
  }
 ],
 "metadata": {
  "kernelspec": {
   "display_name": "Python 3",
   "language": "python",
   "name": "python3"
  },
  "language_info": {
   "codemirror_mode": {
    "name": "ipython",
    "version": 3
   },
   "file_extension": ".py",
   "mimetype": "text/x-python",
   "name": "python",
   "nbconvert_exporter": "python",
   "pygments_lexer": "ipython3",
   "version": "3.7.12"
  },
  "papermill": {
   "default_parameters": {},
   "duration": 15.471534,
   "end_time": "2021-12-27T23:40:16.872627",
   "environment_variables": {},
   "exception": null,
   "input_path": "__notebook__.ipynb",
   "output_path": "__notebook__.ipynb",
   "parameters": {},
   "start_time": "2021-12-27T23:40:01.401093",
   "version": "2.3.3"
  }
 },
 "nbformat": 4,
 "nbformat_minor": 5
}
